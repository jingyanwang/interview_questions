{
 "cells": [
  {
   "cell_type": "markdown",
   "id": "52617905",
   "metadata": {},
   "source": [
    "Write a function that converts a number into its English text representation.  Examples:         \n",
    "    \n",
    "    1 –> one         \n",
    "    14 –> fourteen         \n",
    "    1470 –> one thousand four hundred seventy        \n",
    "    80542199 –> eighty million five hundred forty two thousand one hundred ninety nine   \n",
    "    "
   ]
  },
  {
   "cell_type": "markdown",
   "id": "2bb022ae",
   "metadata": {},
   "source": [
    "https://leetcode.com/problems/integer-to-english-words/"
   ]
  },
  {
   "cell_type": "markdown",
   "id": "47ec603b",
   "metadata": {},
   "source": [
    "https://leetcode.com/problems/integer-to-english-words/discuss/2653977/Python-recursive-solution"
   ]
  },
  {
   "cell_type": "code",
   "execution_count": 1,
   "id": "c497e977",
   "metadata": {},
   "outputs": [],
   "source": [
    "mapper = {1e9: \"Billion\", 1e6: \"Million\", 1e3: \"Thousand\", 1e2: \"Hundred\",\n",
    "       90:  \"Ninety\", 80:  \"Eighty\", 70:  \"Seventy\",\n",
    "       60:  \"Sixty\", 50:  \"Fifty\", 40:  \"Forty\",\n",
    "       30:  \"Thirty\", 20:  \"Twenty\", 19: \"Nineteen\",\n",
    "       18:  \"Eighteen\", 17: \"Seventeen\", 16: \"Sixteen\",\n",
    "       15:  \"Fifteen\", 14: \"Fourteen\", 13: \"Thirteen\",\n",
    "       12:  \"Twelve\", 11:  \"Eleven\", 10:  \"Ten\",\n",
    "       9:   \"Nine\", 8:   \"Eight\", 7:   \"Seven\",\n",
    "       6:   \"Six\", 5:   \"Five\", 4: \"Four\", 3: \"Three\",\n",
    "       2: \"Two\", 1: \"One\", 0: \"Zero\"}"
   ]
  },
  {
   "cell_type": "code",
   "execution_count": 2,
   "id": "bbeacef5",
   "metadata": {},
   "outputs": [
    {
     "data": {
      "text/plain": [
       "dict_items([(1000000000.0, 'Billion'), (1000000.0, 'Million'), (1000.0, 'Thousand'), (100.0, 'Hundred'), (90, 'Ninety'), (80, 'Eighty'), (70, 'Seventy'), (60, 'Sixty'), (50, 'Fifty'), (40, 'Forty'), (30, 'Thirty'), (20, 'Twenty'), (19, 'Nineteen'), (18, 'Eighteen'), (17, 'Seventeen'), (16, 'Sixteen'), (15, 'Fifteen'), (14, 'Fourteen'), (13, 'Thirteen'), (12, 'Twelve'), (11, 'Eleven'), (10, 'Ten'), (9, 'Nine'), (8, 'Eight'), (7, 'Seven'), (6, 'Six'), (5, 'Five'), (4, 'Four'), (3, 'Three'), (2, 'Two'), (1, 'One'), (0, 'Zero')])"
      ]
     },
     "execution_count": 2,
     "metadata": {},
     "output_type": "execute_result"
    }
   ],
   "source": [
    "mapper.items()"
   ]
  },
  {
   "cell_type": "code",
   "execution_count": 5,
   "id": "e0b43244",
   "metadata": {},
   "outputs": [
    {
     "data": {
      "text/plain": [
       "(3, 1)"
      ]
     },
     "execution_count": 5,
     "metadata": {},
     "output_type": "execute_result"
    }
   ],
   "source": [
    "divmod(10,3)"
   ]
  },
  {
   "cell_type": "code",
   "execution_count": null,
   "id": "c1f21dfd",
   "metadata": {},
   "outputs": [],
   "source": [
    "def dfs(n: int) -> str:\n",
    "    if n <= 20:\n",
    "        return mapper[n]\n",
    "\n",
    "    for val, word in mapper.items():\n",
    "        quo, rem = divmod(n, val)\n",
    "        if quo:\n",
    "            higher, lower = \"\", \"\"\n",
    "            # if it is Billion, Million, Thousand or Hundred, we say One Billion, Two Million etc.\n",
    "            # but for numbers less than 100, we only say Ninety Three(we don't say One Ninety Three)\n",
    "            if val >= 100:\n",
    "                higher = dfs(quo) + \" \"\n",
    "            if rem:\n",
    "                lower = \" \" + dfs(rem)\n",
    "\n",
    "            return higher + word + lower"
   ]
  },
  {
   "cell_type": "code",
   "execution_count": 72,
   "id": "8aeaec95",
   "metadata": {},
   "outputs": [],
   "source": [
    "import re"
   ]
  },
  {
   "cell_type": "code",
   "execution_count": 65,
   "id": "797c369d",
   "metadata": {},
   "outputs": [],
   "source": [
    "number_to_str = {\n",
    "    0:'',\n",
    "    1:'one',\n",
    "    2:'two',\n",
    "    3:'three',\n",
    "    4:'four',\n",
    "    5:'five',\n",
    "    6:'six',\n",
    "    7:'seven',\n",
    "    8:'eight',\n",
    "    9:'nine',\n",
    "    10:'ten',\n",
    "    11:'eleven',\n",
    "    12:'twelve',\n",
    "    13:'thirteen',\n",
    "    14:'fourteen',\n",
    "    15:'fifteen',\n",
    "    16:'sixteen',\n",
    "    17:'seventeen',\n",
    "    18:'eighteen',\n",
    "    19:'nineteen',\n",
    "}\n",
    "\n",
    "digit_high_to_str = {\n",
    "    2:'tweenty',\n",
    "    3:'thirty',\n",
    "    4:'fourty',\n",
    "    5:'fifty',\n",
    "    6:'sixty',\n",
    "    7:'seventy',\n",
    "    8:'eighty',\n",
    "    9:'ninety',\n",
    "}"
   ]
  },
  {
   "cell_type": "code",
   "execution_count": 66,
   "id": "b4282219",
   "metadata": {},
   "outputs": [],
   "source": [
    "current_3_digit = ['4', '3', '0']\n",
    "\n",
    "def convert_3_digit(\n",
    "    current_3_digit\n",
    "    ):\n",
    "\n",
    "    output_str = []\n",
    "\n",
    "    try:\n",
    "        output_str.append(f'{number_to_str[int(current_3_digit[2])]} hundred')\n",
    "    except:\n",
    "        pass\n",
    "\n",
    "\n",
    "    digit = int(current_3_digit[1]+current_3_digit[0])\n",
    "\n",
    "    if digit <20:\n",
    "\n",
    "        output_str.append(number_to_str[digit])\n",
    "\n",
    "    if digit >= 20 and digit <= 99:\n",
    "        digit_high = digit//10\n",
    "        digit_low = digit%10\n",
    "\n",
    "        output_str.append(f'{digit_high_to_str[digit_high]} {number_to_str[digit_low]}')\n",
    "\n",
    "\n",
    "    output_str = ' '.join(output_str)\n",
    "    return output_str\n"
   ]
  },
  {
   "cell_type": "code",
   "execution_count": 63,
   "id": "3703d6ed",
   "metadata": {},
   "outputs": [
    {
     "data": {
      "text/plain": [
       "'nine hundred fifty '"
      ]
     },
     "execution_count": 63,
     "metadata": {},
     "output_type": "execute_result"
    }
   ],
   "source": [
    "current_3_digit = ['0', '5', '9']\n",
    "\n",
    "convert_3_digit(\n",
    "    current_3_digit\n",
    "    )"
   ]
  },
  {
   "cell_type": "code",
   "execution_count": 75,
   "id": "486a1708",
   "metadata": {},
   "outputs": [
    {
     "data": {
      "text/plain": [
       "'eighty million five hundred fourty two thousand one hundred ninety nine'"
      ]
     },
     "execution_count": 75,
     "metadata": {},
     "output_type": "execute_result"
    }
   ],
   "source": [
    "def convert_number_to_text(\n",
    "    input_number,\n",
    "    ):\n",
    "\n",
    "    number_str = list(str(input_number))\n",
    "\n",
    "    pop_len = 0\n",
    "\n",
    "    current_3_digit = []\n",
    "\n",
    "    ending_3_digit = ['trillion','billion','million','thousand','']\n",
    "\n",
    "    output_str = []\n",
    "\n",
    "    for i in range(len(number_str)):\n",
    "\n",
    "        pop_len += 1\n",
    "        current_3_digit.append(number_str.pop())\n",
    "\n",
    "        if pop_len ==3 or len(number_str) == 0:\n",
    "            current_unit = ending_3_digit.pop()\n",
    "\n",
    "            current_3_digit_str = convert_3_digit(\n",
    "                current_3_digit\n",
    "                )\n",
    "\n",
    "            output_str.append(f'{current_3_digit_str} {current_unit}')\n",
    "\n",
    "            pop_len = 0\n",
    "            current_3_digit = []\n",
    "\n",
    "    final_result = []\n",
    "\n",
    "    while(len(output_str)>0):\n",
    "        s = output_str.pop()\n",
    "        final_result.append(s)\n",
    "\n",
    "    final_result_str = ' '.join(final_result)\n",
    "\n",
    "    final_result_str = re.sub(r'\\s+', ' ', final_result_str).strip()\n",
    "\n",
    "    return final_result_str\n",
    "\n",
    "\n",
    "input_number = 80542199\n",
    "\n",
    "convert_number_to_text(\n",
    "    input_number,\n",
    "    )"
   ]
  }
 ],
 "metadata": {
  "kernelspec": {
   "display_name": "Python 3 (ipykernel)",
   "language": "python",
   "name": "python3"
  },
  "language_info": {
   "codemirror_mode": {
    "name": "ipython",
    "version": 3
   },
   "file_extension": ".py",
   "mimetype": "text/x-python",
   "name": "python",
   "nbconvert_exporter": "python",
   "pygments_lexer": "ipython3",
   "version": "3.10.6"
  }
 },
 "nbformat": 4,
 "nbformat_minor": 5
}
