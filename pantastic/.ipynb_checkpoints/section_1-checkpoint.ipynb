{
 "cells": [
  {
   "cell_type": "code",
   "execution_count": 1,
   "id": "1a89397f",
   "metadata": {},
   "outputs": [],
   "source": [
    "import re\n",
    "import numpy as np\n",
    "import sys"
   ]
  },
  {
   "cell_type": "code",
   "execution_count": 174,
   "id": "2bae9215",
   "metadata": {},
   "outputs": [],
   "source": [
    "def ciphertext(\n",
    "    input_text,\n",
    "    ):\n",
    "    \n",
    "    # remove the space\n",
    "    input_text_no_space = re.sub(r'\\s+', r'', input_text)\n",
    "    \n",
    "    #length of the string\n",
    "\n",
    "    L = len(input_text_no_space)\n",
    "    \n",
    "    # initialize the optimal row and colum\n",
    "\n",
    "    optimal_row, optimal_column = int(np.ceil(np.sqrt(L)))+1, int(np.ceil(np.sqrt(L)))+1      \n",
    "    \n",
    "    #identify the optimal row and column size\n",
    "    '''\n",
    "    only search around the square root of the L\n",
    "    even the question description says choose the one with the minimum area,\n",
    "    but according to the example outputs, the row and column size are always around the square root of L\n",
    "    '''\n",
    "    for row in range(\n",
    "        int(np.floor(np.sqrt(L))), \n",
    "        int(np.ceil(np.sqrt(L)))+1):\n",
    "        \n",
    "        # make sure row<=column\n",
    "        column = int(np.ceil(L/row))\n",
    "        \n",
    "        #print(row, column, row*column)\n",
    "\n",
    "        if row*column < optimal_row * optimal_column and row<column:\n",
    "            optimal_row, optimal_column = row, column\n",
    "        \n",
    "\n",
    "    #print(optimal_row, optimal_column, L)    \n",
    "   \n",
    "    output_text = [' ']*((optimal_row+1)*(optimal_column+1))\n",
    "    \n",
    "    for i in range(L):\n",
    "        \n",
    "        row_id = i%optimal_column\n",
    "        column_id = i//optimal_column\n",
    "        \n",
    "        #print(input_text_no_space[i], row_id, column_id)\n",
    "        \n",
    "        output_text[row_id*(optimal_row+1)+column_id] = input_text_no_space[i]\n",
    "        \n",
    "    output_text = ''.join(output_text)\n",
    "    output_text = output_text.strip()\n",
    "        \n",
    "    \n",
    "    return output_text"
   ]
  },
  {
   "cell_type": "code",
   "execution_count": 175,
   "id": "cacbd414",
   "metadata": {},
   "outputs": [
    {
     "name": "stdout",
     "output_type": "stream",
     "text": [
      "4 4 16\n"
     ]
    },
    {
     "data": {
      "text/plain": [
       "'ldan  oic   ost   kti   aro'"
      ]
     },
     "execution_count": 175,
     "metadata": {},
     "output_type": "execute_result"
    }
   ],
   "source": [
    "input_text = u\"lookadistraction\"\n",
    "ciphertext(input_text)"
   ]
  },
  {
   "cell_type": "code",
   "execution_count": 176,
   "id": "1ad7afb2",
   "metadata": {},
   "outputs": [
    {
     "name": "stdout",
     "output_type": "stream",
     "text": [
      "3 4 12\n",
      "4 3 12\n"
     ]
    },
    {
     "data": {
      "text/plain": [
       "'bnr aao ner ar'"
      ]
     },
     "execution_count": 176,
     "metadata": {},
     "output_type": "execute_result"
    }
   ],
   "source": [
    "input_text = u\"bananaerror\"\n",
    "ciphertext(input_text)"
   ]
  },
  {
   "cell_type": "code",
   "execution_count": 177,
   "id": "198c058c",
   "metadata": {
    "scrolled": true
   },
   "outputs": [
    {
     "name": "stdout",
     "output_type": "stream",
     "text": [
      "2 4 8\n",
      "3 3 9\n"
     ]
    },
    {
     "data": {
      "text/plain": [
       "'cl ho iu lt'"
      ]
     },
     "execution_count": 177,
     "metadata": {},
     "output_type": "execute_result"
    }
   ],
   "source": [
    "input_text = u\"chillout\"\n",
    "ciphertext(input_text)"
   ]
  }
 ],
 "metadata": {
  "kernelspec": {
   "display_name": "Python 3 (ipykernel)",
   "language": "python",
   "name": "python3"
  },
  "language_info": {
   "codemirror_mode": {
    "name": "ipython",
    "version": 3
   },
   "file_extension": ".py",
   "mimetype": "text/x-python",
   "name": "python",
   "nbconvert_exporter": "python",
   "pygments_lexer": "ipython3",
   "version": "3.10.6"
  }
 },
 "nbformat": 4,
 "nbformat_minor": 5
}
