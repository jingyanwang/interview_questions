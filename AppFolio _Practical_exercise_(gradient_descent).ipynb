{
  "nbformat": 4,
  "nbformat_minor": 0,
  "metadata": {
    "colab": {
      "provenance": [],
      "collapsed_sections": []
    },
    "kernelspec": {
      "name": "python3",
      "display_name": "Python 3"
    }
  },
  "cells": [
    {
      "cell_type": "code",
      "metadata": {
        "id": "kE8PKxQQYaHP"
      },
      "source": [
        "import numpy as np\n",
        "from matplotlib import pyplot as plt"
      ],
      "execution_count": 2,
      "outputs": []
    },
    {
      "cell_type": "markdown",
      "source": [
        "(A) Simulate 10K samples of the tuple (y, x), where y = -(X-2)^2 + 3 + N, X is uniformly distributed between [0,4] and N is a Normal Distributed Random variable of mean = 0 and standard deviation = 0.1. Plot the generated dataset."
      ],
      "metadata": {
        "id": "ZjmC5HgVik1j"
      }
    },
    {
      "cell_type": "code",
      "source": [
        "X = np.random.rand(\n",
        "    (10000)\n",
        ")*4\n",
        "\n",
        "N = np.random.normal(loc=0.0, scale=0.1, size = (10000))\n",
        "\n",
        "y = - np.square(X-2) + 3 + N\n",
        "\n",
        "plt.scatter(X, y)"
      ],
      "metadata": {
        "id": "VZ1ub4LBiqFf",
        "colab": {
          "base_uri": "https://localhost:8080/",
          "height": 283
        },
        "outputId": "338ce443-5e81-4fd5-e358-8b8276ef1618"
      },
      "execution_count": 9,
      "outputs": [
        {
          "output_type": "execute_result",
          "data": {
            "text/plain": [
              "<matplotlib.collections.PathCollection at 0x7fc324444d10>"
            ]
          },
          "metadata": {},
          "execution_count": 9
        },
        {
          "output_type": "display_data",
          "data": {
            "text/plain": [
              "<Figure size 432x288 with 1 Axes>"
            ],
            "image/png": "[encoded data removed]"
          },
          "metadata": {
            "needs_background": "light"
          }
        }
      ]
    },
    {
      "cell_type": "markdown",
      "source": [
        "(B) Find the best quadratic polynomial that fits the dataset generated in (A), using x as the feature, y as the labels, and gradient descent as the optimization algorithm. (y_hat = w1 * X^2 + w2 * X + b) "
      ],
      "metadata": {
        "id": "LSmAttIjisAJ"
      }
    },
    {
      "cell_type": "code",
      "source": [
        "# gradient descent\n",
        "\n",
        "'''\n",
        "\n",
        " (y-y_hat)^2\n",
        "\n",
        " (w1 * X^2 + w2 * X + b) = \n",
        "\n",
        "\n",
        "gradient_w1 = -2 * (y-(w1 * X^2 + w2 * X + b))* x^2\n",
        "gradient_w2 = -2 * (y-(w1 * X^2 + w2 * X + b))* x\n",
        "gradient_b = -2 * (y-(w1 * X^2 + w2 * X + b))* 1\n",
        "\n",
        "\n",
        "\n",
        "'''\n",
        "\n",
        "w1, w2, b = 0.0, 0.0, 0.0\n",
        "\n",
        "step_size = 0.001\n",
        "\n",
        "epochs = 10\n",
        "\n",
        "for t in range(epochs):\n",
        "\n",
        "  for i in range(10000):\n",
        "\n",
        "    x_i = X[i]\n",
        "    y_i = y[i]\n",
        "\n",
        "    g_w1 = -2 * (y_i-(w1 * x_i*x_i + w2 * x_i + b)) * x_i*x_i\n",
        "    w1 = w1 - step_size * g_w1\n",
        "\n",
        "    g_w2 = -2 * (y_i-(w1 * x_i*x_i + w2 * x_i + b)) * x_i\n",
        "    w2 = w2 - step_size * g_w2\n",
        "\n",
        "    g_b = -2 * (y_i-(w1 * x_i*x_i + w2 * x_i + b)) \n",
        "    b = b - step_size * g_b"
      ],
      "metadata": {
        "id": "87XUy0w1iylf"
      },
      "execution_count": null,
      "outputs": []
    },
    {
      "cell_type": "markdown",
      "source": [
        "(C) Using pseudo-code or the framework you like, implement a Deep Learning  model for fitting the dataset generated in (A)"
      ],
      "metadata": {
        "id": "h1sxIdUxi4VP"
      }
    },
    {
      "cell_type": "code",
      "source": [
        "from torch.utils.data import Dataset, DataLoader\n",
        "import torch.nn as nn\n",
        "import torch.optim as optim\n",
        "import torch.nn as nn\n",
        "import torch.nn.functional as F\n",
        "\n",
        "\n",
        "class CustomDataset(Dataset):\n",
        "\n",
        "    def __init__(self, x, y):\n",
        "        self.x = x\n",
        "        self.y = y\n",
        "\n",
        "    def __len__(self):\n",
        "        return len(self.x)\n",
        "\n",
        "    def __getitem__(self, idx):\n",
        "        return self.x[idx], self.y[idx]\n",
        "\n",
        "\n",
        "class Net(nn.Module):\n",
        "    def __init__(self):\n",
        "        # IMPLEMENT HERE  \n",
        "        # building blocks: https://pytorch.org/docs/stable/nn.html\n",
        "        # init vs forward: https://pytorch.org/tutorials/beginner/pytorch_with_examples.html#pytorch-custom-nn-modules\n",
        "\n",
        "    def forward(self, x):\n",
        "        # IMPLEMENT HERE\n",
        "        # init vs forward: https://pytorch.org/tutorials/beginner/pytorch_with_examples.html#pytorch-custom-nn-modules\n",
        "\n",
        "        x = dense(x)\n",
        "        ...\n",
        "\n",
        "        return x\n",
        "        \n",
        "n_epoch = # IMPLEMENT HERE\n",
        "batch_size = # IMPLEMENT HERE\n",
        "\n",
        "net = Net()\n",
        "criterion = # IMPLEMENT HERE: https://pytorch.org/docs/stable/nn.html#loss-functions\n",
        "optimizer = # IMPLEMENT HERE: https://pytorch.org/docs/stable/optim.html#algorithms\n",
        "dataset = CustomDataset(x_norm, y_norm)\n",
        "trainloader = DataLoader(dataset, batch_size=batch_size, shuffle=True)\n",
        "\n",
        "for epoch in range(n_epoch):  \n",
        "    epoch_loss = 0.0\n",
        "    for i, data in enumerate(trainloader, 0):\n",
        "        xs, ys = data\n",
        "        xs = xs.reshape(-1,1)\n",
        "        ys = ys.reshape(-1,1)\n",
        "\n",
        "        optimizer.zero_grad()\n",
        "\n",
        "        outputs = net(xs)\n",
        "        loss = criterion(outputs, ys)\n",
        "        loss.backward()\n",
        "        optimizer.step()\n",
        "\n",
        "        epoch_loss += loss.item()\n",
        "    print(epoch_loss)\n",
        "\n",
        "print(epoch_loss)\n",
        "print('Finished Training')"
      ],
      "metadata": {
        "id": "fxm4FMIbk2oc"
      },
      "execution_count": null,
      "outputs": []
    }
  ]
}