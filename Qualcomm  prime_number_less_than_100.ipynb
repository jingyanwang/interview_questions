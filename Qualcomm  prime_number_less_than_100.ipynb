{
 "cells": [
  {
   "cell_type": "code",
   "execution_count": 17,
   "id": "7949244f",
   "metadata": {},
   "outputs": [
    {
     "name": "stdout",
     "output_type": "stream",
     "text": [
      "[2, 3, 5, 7, 11, 13, 17, 19, 23, 29, 31, 37, 41, 43, 47, 53, 59, 61, 67, 71, 73, 79, 83, 89, 97]\n"
     ]
    }
   ],
   "source": [
    "result = []\n",
    "\n",
    "n = 100\n",
    "\n",
    "for i in range(2,n):\n",
    "    prime_flag = True\n",
    "    for j in range(2,n):\n",
    "        if j != i:\n",
    "            if (i/j == i//j):\n",
    "                prime_flag = False\n",
    "    if prime_flag is True:\n",
    "        result.append(i)\n",
    "\n",
    "print(result)"
   ]
  },
  {
   "cell_type": "code",
   "execution_count": 16,
   "id": "2cb1fc49",
   "metadata": {},
   "outputs": [
    {
     "data": {
      "text/plain": [
       "True"
      ]
     },
     "execution_count": 16,
     "metadata": {},
     "output_type": "execute_result"
    }
   ],
   "source": [
    "complexity O(n^2)"
   ]
  },
  {
   "cell_type": "code",
   "execution_count": null,
   "id": "57d66ad2",
   "metadata": {},
   "outputs": [],
   "source": [
    "prime number less than 100"
   ]
  },
  {
   "cell_type": "code",
   "execution_count": null,
   "id": "d6aea57a",
   "metadata": {},
   "outputs": [],
   "source": [
    "prime_numbers = [2,3]"
   ]
  },
  {
   "cell_type": "code",
   "execution_count": 18,
   "id": "af240a79",
   "metadata": {},
   "outputs": [
    {
     "name": "stdout",
     "output_type": "stream",
     "text": [
      "[2, 3, 5, 7, 11, 13, 17, 19, 23, 29, 31, 37, 41, 43, 47, 53, 59, 61, 67, 71, 73, 79, 83, 89, 97]\n"
     ]
    }
   ],
   "source": [
    "result = []\n",
    "\n",
    "n = 100\n",
    "\n",
    "for i in range(2,n):\n",
    "    prime_flag = True\n",
    "    for j in range(2,i):\n",
    "        if j != i:\n",
    "            if (i/j == i//j):\n",
    "                prime_flag = False\n",
    "    if prime_flag is True:\n",
    "        result.append(i)\n",
    "\n",
    "print(result)"
   ]
  },
  {
   "cell_type": "code",
   "execution_count": null,
   "id": "8f25f9be",
   "metadata": {},
   "outputs": [],
   "source": []
  }
 ],
 "metadata": {
  "kernelspec": {
   "display_name": "Python 3 (ipykernel)",
   "language": "python",
   "name": "python3"
  },
  "language_info": {
   "codemirror_mode": {
    "name": "ipython",
    "version": 3
   },
   "file_extension": ".py",
   "mimetype": "text/x-python",
   "name": "python",
   "nbconvert_exporter": "python",
   "pygments_lexer": "ipython3",
   "version": "3.10.6"
  }
 },
 "nbformat": 4,
 "nbformat_minor": 5
}
