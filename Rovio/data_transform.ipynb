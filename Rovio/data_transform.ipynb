{
 "cells": [
  {
   "cell_type": "code",
   "execution_count": 1,
   "id": "768e1c0d",
   "metadata": {},
   "outputs": [],
   "source": [
    "import numpy as np\n",
    "import os\n",
    "import re\n",
    "from os import listdir\n",
    "from os.path import isfile, join"
   ]
  },
  {
   "cell_type": "code",
   "execution_count": 2,
   "id": "2c83a4b4",
   "metadata": {},
   "outputs": [],
   "source": [
    "from tensorflow.keras.utils import to_categorical\n",
    "from tensorflow.keras.utils import pad_sequences "
   ]
  },
  {
   "cell_type": "code",
   "execution_count": 3,
   "id": "2f564af4",
   "metadata": {},
   "outputs": [],
   "source": [
    "%run configuration.ipynb"
   ]
  },
  {
   "cell_type": "markdown",
   "id": "97f65e72",
   "metadata": {},
   "source": [
    "# load the numpy files"
   ]
  },
  {
   "cell_type": "code",
   "execution_count": 4,
   "id": "d087416f",
   "metadata": {},
   "outputs": [],
   "source": [
    "npy_folder = 'C:\\\\data\\\\rovio\\\\npy_data'"
   ]
  },
  {
   "cell_type": "code",
   "execution_count": 5,
   "id": "d1f274ac",
   "metadata": {},
   "outputs": [],
   "source": [
    "npy_data = {}"
   ]
  },
  {
   "cell_type": "code",
   "execution_count": 6,
   "id": "35c88919",
   "metadata": {},
   "outputs": [],
   "source": [
    "npy_files = [\n",
    "    os.path.join(npy_folder, f) \n",
    "    for f in os.listdir(npy_folder) \n",
    "    if os.path.isfile(os.path.join(npy_folder, f))]"
   ]
  },
  {
   "cell_type": "code",
   "execution_count": 7,
   "id": "f64cdb81",
   "metadata": {},
   "outputs": [
    {
     "name": "stdout",
     "output_type": "stream",
     "text": [
      "loading C:\\data\\rovio\\npy_data\\ads_clicks.npy\n",
      "loading C:\\data\\rovio\\npy_data\\ads_impressions.npy\n",
      "loading C:\\data\\rovio\\npy_data\\country_code.npy\n",
      "loading C:\\data\\rovio\\npy_data\\days_from_registration.npy\n",
      "loading C:\\data\\rovio\\npy_data\\device_type.npy\n",
      "loading C:\\data\\rovio\\npy_data\\event_day_of_week.npy\n",
      "loading C:\\data\\rovio\\npy_data\\label.npy\n",
      "loading C:\\data\\rovio\\npy_data\\money_spent.npy\n",
      "loading C:\\data\\rovio\\npy_data\\operating_system.npy\n",
      "loading C:\\data\\rovio\\npy_data\\player_id.npy\n",
      "loading C:\\data\\rovio\\npy_data\\registration_date_day_of_week.npy\n",
      "loading C:\\data\\rovio\\npy_data\\session_count.npy\n",
      "loading C:\\data\\rovio\\npy_data\\time_spent_seconds.npy\n"
     ]
    }
   ],
   "source": [
    "for f in npy_files:\n",
    "    print(f'loading {f}')\n",
    "    c = f.split('\\\\')[-1].split('.')[0]    \n",
    "    x = np.load(f, allow_pickle=True)\n",
    "    npy_data[c] = x"
   ]
  },
  {
   "cell_type": "code",
   "execution_count": 8,
   "id": "8ec94080",
   "metadata": {},
   "outputs": [
    {
     "name": "stdout",
     "output_type": "stream",
     "text": [
      "dict_keys(['ads_clicks', 'ads_impressions', 'country_code', 'days_from_registration', 'device_type', 'event_day_of_week', 'label', 'money_spent', 'operating_system', 'player_id', 'registration_date_day_of_week', 'session_count', 'time_spent_seconds'])\n"
     ]
    }
   ],
   "source": [
    "print(npy_data.keys())"
   ]
  },
  {
   "cell_type": "markdown",
   "id": "49d6c6ba",
   "metadata": {},
   "source": [
    "## player ID"
   ]
  },
  {
   "cell_type": "code",
   "execution_count": 9,
   "id": "a32167ea",
   "metadata": {},
   "outputs": [],
   "source": [
    "x_player_id = npy_data[profile_id_column]"
   ]
  },
  {
   "cell_type": "code",
   "execution_count": 10,
   "id": "f99939ca",
   "metadata": {},
   "outputs": [
    {
     "data": {
      "text/plain": [
       "(6119351,)"
      ]
     },
     "execution_count": 10,
     "metadata": {},
     "output_type": "execute_result"
    }
   ],
   "source": [
    "x_player_id.shape"
   ]
  },
  {
   "cell_type": "markdown",
   "id": "d99981ad",
   "metadata": {},
   "source": [
    "## label"
   ]
  },
  {
   "cell_type": "code",
   "execution_count": 11,
   "id": "ca345e9d",
   "metadata": {},
   "outputs": [],
   "source": [
    "npy_data[label_column] = to_categorical(npy_data[label_column])"
   ]
  },
  {
   "cell_type": "code",
   "execution_count": 12,
   "id": "49fc52fa",
   "metadata": {},
   "outputs": [],
   "source": [
    "y = npy_data[label_column] "
   ]
  },
  {
   "cell_type": "code",
   "execution_count": 13,
   "id": "d8798897",
   "metadata": {},
   "outputs": [
    {
     "data": {
      "text/plain": [
       "(6119351, 2)"
      ]
     },
     "execution_count": 13,
     "metadata": {},
     "output_type": "execute_result"
    }
   ],
   "source": [
    "y.shape"
   ]
  },
  {
   "cell_type": "markdown",
   "id": "773eebf6",
   "metadata": {},
   "source": [
    "## padding sequence of events"
   ]
  },
  {
   "cell_type": "code",
   "execution_count": 14,
   "id": "a4baee62",
   "metadata": {},
   "outputs": [
    {
     "name": "stdout",
     "output_type": "stream",
     "text": [
      "padding days_from_registration\n",
      "padding event_day_of_week\n",
      "padding money_spent\n",
      "padding session_count\n",
      "padding time_spent_seconds\n",
      "padding ads_impressions\n",
      "padding ads_clicks\n"
     ]
    }
   ],
   "source": [
    "for c in even_attributes:\n",
    "    print(f'padding {c}')\n",
    "    npy_data[c] = pad_sequences(\n",
    "        npy_data[c],\n",
    "        maxlen = event_seq_len_max,\n",
    "        padding = 'post')"
   ]
  },
  {
   "cell_type": "code",
   "execution_count": 15,
   "id": "47d80d7b",
   "metadata": {},
   "outputs": [
    {
     "name": "stdout",
     "output_type": "stream",
     "text": [
      "shape of days_from_registration: (6119351, 7)\n",
      "shape of event_day_of_week: (6119351, 7)\n",
      "shape of money_spent: (6119351, 7)\n",
      "shape of session_count: (6119351, 7)\n",
      "shape of time_spent_seconds: (6119351, 7)\n",
      "shape of ads_impressions: (6119351, 7)\n",
      "shape of ads_clicks: (6119351, 7)\n"
     ]
    }
   ],
   "source": [
    "for c in even_attributes:\n",
    "    print(f'shape of {c}: {npy_data[c].shape}')   "
   ]
  },
  {
   "cell_type": "markdown",
   "id": "178b2a88",
   "metadata": {},
   "source": [
    "## save transformed data"
   ]
  },
  {
   "cell_type": "code",
   "execution_count": 16,
   "id": "82b2e6d5",
   "metadata": {},
   "outputs": [],
   "source": [
    "for c in npy_data:\n",
    "    np.save(f'{npy_transformed_folder}\\\\{c}.npy', npy_data[c])"
   ]
  },
  {
   "cell_type": "markdown",
   "id": "d06e5956",
   "metadata": {},
   "source": [
    "# end"
   ]
  }
 ],
 "metadata": {
  "kernelspec": {
   "display_name": "Python 3 (ipykernel)",
   "language": "python",
   "name": "python3"
  },
  "language_info": {
   "codemirror_mode": {
    "name": "ipython",
    "version": 3
   },
   "file_extension": ".py",
   "mimetype": "text/x-python",
   "name": "python",
   "nbconvert_exporter": "python",
   "pygments_lexer": "ipython3",
   "version": "3.10.6"
  }
 },
 "nbformat": 4,
 "nbformat_minor": 5
}
