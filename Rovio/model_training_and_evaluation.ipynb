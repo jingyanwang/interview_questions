{
 "cells": [
  {
   "cell_type": "code",
   "execution_count": 1,
   "id": "53f2130f",
   "metadata": {},
   "outputs": [],
   "source": [
    "%run configuration.ipynb"
   ]
  },
  {
   "cell_type": "code",
   "execution_count": 2,
   "id": "0a36de50",
   "metadata": {},
   "outputs": [],
   "source": [
    "%run churn_model.ipynb"
   ]
  },
  {
   "cell_type": "code",
   "execution_count": 3,
   "id": "7625da3d",
   "metadata": {},
   "outputs": [],
   "source": [
    "%run train_validate_test_split.ipynb"
   ]
  },
  {
   "cell_type": "code",
   "execution_count": 8,
   "id": "a0a03c0d",
   "metadata": {},
   "outputs": [],
   "source": [
    "import pickle"
   ]
  },
  {
   "cell_type": "markdown",
   "id": "a322ce11",
   "metadata": {},
   "source": [
    "# load the training and test set"
   ]
  },
  {
   "cell_type": "code",
   "execution_count": 5,
   "id": "9949b682",
   "metadata": {},
   "outputs": [],
   "source": [
    "npy_data = {}\n",
    "\n",
    "for c in profile_attributes+even_attributes:\n",
    "    npy_data[c] = np.load(f'{npy_transformed_folder}\\\\{c}.npy', allow_pickle=True)\n",
    "\n",
    "X = []\n",
    "for c in feature_attributes:\n",
    "    x = npy_data[c]\n",
    "    X.append(x)\n",
    "\n",
    "y = npy_data[label_column]"
   ]
  },
  {
   "cell_type": "code",
   "execution_count": 6,
   "id": "d763d2ec",
   "metadata": {},
   "outputs": [],
   "source": [
    "X_training = [x[x_idx_train] for x in X]\n",
    "y_training = y[x_idx_train]\n",
    "\n",
    "X_test = [x[x_idx_test] for x in X]\n",
    "y_test = y[x_idx_test]"
   ]
  },
  {
   "cell_type": "markdown",
   "id": "1aaeb388",
   "metadata": {},
   "source": [
    "# load the best parameters"
   ]
  },
  {
   "cell_type": "code",
   "execution_count": 9,
   "id": "59745742",
   "metadata": {},
   "outputs": [
    {
     "name": "stdout",
     "output_type": "stream",
     "text": [
      "{'units': 128, 'epochs': 3, 'emb_dim': 128, 'dropout_rate': 0.3}\n"
     ]
    }
   ],
   "source": [
    "f = open(\"best_parameters.pkl\", \"rb\")\n",
    "best_parameters = pickle.load(f)\n",
    "print(best_parameters)\n",
    "f.close()"
   ]
  },
  {
   "cell_type": "markdown",
   "id": "830e1200",
   "metadata": {},
   "source": [
    "# build the model"
   ]
  },
  {
   "cell_type": "code",
   "execution_count": 13,
   "id": "60082f19",
   "metadata": {},
   "outputs": [],
   "source": [
    "churn = churn_model(\n",
    "    emb_dim = best_parameters['emb_dim'],\n",
    "    dropout_rate = best_parameters['dropout_rate'],\n",
    "    units = best_parameters['units'],\n",
    ")\n",
    "churn.build_model()"
   ]
  },
  {
   "cell_type": "markdown",
   "id": "a6b2c971",
   "metadata": {},
   "source": [
    "# train the model"
   ]
  },
  {
   "cell_type": "code",
   "execution_count": 14,
   "id": "bccfef09",
   "metadata": {},
   "outputs": [
    {
     "name": "stdout",
     "output_type": "stream",
     "text": [
      "Epoch 1/3\n",
      "8964/8964 [==============================] - 75s 8ms/step - loss: 0.5072 - auc: 0.8343 - acc: 0.7716\n",
      "Epoch 2/3\n",
      "8964/8964 [==============================] - 69s 8ms/step - loss: 0.4767 - auc: 0.8532 - acc: 0.7879\n",
      "Epoch 3/3\n",
      "8964/8964 [==============================] - 67s 7ms/step - loss: 0.4710 - auc: 0.8567 - acc: 0.7917\n"
     ]
    },
    {
     "data": {
      "text/plain": [
       "<keras.callbacks.History at 0x2665b739240>"
      ]
     },
     "execution_count": 14,
     "metadata": {},
     "output_type": "execute_result"
    }
   ],
   "source": [
    "print(f'training the model over the trainig set with parameters {best_parameters}')\n",
    "\n",
    "churn.model.fit(\n",
    "    x=X_training,\n",
    "    y=y_training,\n",
    "    batch_size=batch_size,\n",
    "    epochs=best_parameters['epochs'],\n",
    "    verbose=\"auto\",\n",
    "    )"
   ]
  },
  {
   "cell_type": "markdown",
   "id": "c83067c0",
   "metadata": {},
   "source": [
    "# evaluate the model"
   ]
  },
  {
   "cell_type": "code",
   "execution_count": 15,
   "id": "4a9065c6",
   "metadata": {},
   "outputs": [
    {
     "name": "stdout",
     "output_type": "stream",
     "text": [
      "2988/2988 [==============================] - 12s 4ms/step - loss: 0.4543 - auc: 0.8682 - acc: 0.7979\n"
     ]
    }
   ],
   "source": [
    "print(f'evaluating the model over the test set')\n",
    "\n",
    "loss = churn.model.evaluate(\n",
    "    x=X_test,\n",
    "    y=y_test,\n",
    "    batch_size=batch_size,\n",
    "    )"
   ]
  },
  {
   "cell_type": "code",
   "execution_count": 17,
   "id": "9cb62092",
   "metadata": {},
   "outputs": [
    {
     "name": "stdout",
     "output_type": "stream",
     "text": [
      "auc: 0.8682, acc: 0.7979\n"
     ]
    }
   ],
   "source": [
    "print(f'evaluatoin result: auc: {loss[1]:0.4f}, acc: {loss[2]:0.4f}')"
   ]
  },
  {
   "cell_type": "markdown",
   "id": "54d94cd2",
   "metadata": {},
   "source": [
    "# end"
   ]
  }
 ],
 "metadata": {
  "kernelspec": {
   "display_name": "Python 3 (ipykernel)",
   "language": "python",
   "name": "python3"
  },
  "language_info": {
   "codemirror_mode": {
    "name": "ipython",
    "version": 3
   },
   "file_extension": ".py",
   "mimetype": "text/x-python",
   "name": "python",
   "nbconvert_exporter": "python",
   "pygments_lexer": "ipython3",
   "version": "3.10.6"
  }
 },
 "nbformat": 4,
 "nbformat_minor": 5
}
