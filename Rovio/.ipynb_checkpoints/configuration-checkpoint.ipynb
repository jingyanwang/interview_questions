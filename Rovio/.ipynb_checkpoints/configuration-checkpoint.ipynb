{
 "cells": [
  {
   "cell_type": "code",
   "execution_count": 1,
   "id": "690e739e",
   "metadata": {},
   "outputs": [],
   "source": [
    "profile_attributes = [\n",
    "    'player_id',\n",
    "    'label',\n",
    "    'registration_date_day_of_week',\n",
    "    'country_code',\n",
    "    'operating_system',\n",
    "    'device_type',\n",
    "]\n",
    "\n",
    "even_attributes = [\n",
    "    'days_from_registration',\n",
    "    'event_day_of_week',\n",
    "    'money_spent',\n",
    "    'session_count',\n",
    "    'time_spent_seconds',\n",
    "    'ads_impressions',\n",
    "    'ads_clicks',\n",
    "]"
   ]
  },
  {
   "cell_type": "code",
   "execution_count": 2,
   "id": "4119ea6f",
   "metadata": {},
   "outputs": [],
   "source": [
    "profile_id_column = 'player_id'\n",
    "label_column = 'label'"
   ]
  },
  {
   "cell_type": "code",
   "execution_count": 3,
   "id": "660c2c3e",
   "metadata": {},
   "outputs": [],
   "source": [
    "event_seq_len_max = 7"
   ]
  },
  {
   "cell_type": "code",
   "execution_count": 4,
   "id": "f9c81935",
   "metadata": {},
   "outputs": [],
   "source": [
    "npy_transformed_folder = 'C:\\\\data\\\\rovio\\\\npy_data_transformed'"
   ]
  },
  {
   "cell_type": "code",
   "execution_count": 5,
   "id": "477043e8",
   "metadata": {},
   "outputs": [],
   "source": [
    "attribute_vacabulary_size = {\n",
    "    'registration_date_day_of_week':8,\n",
    "    'country_code':244,\n",
    "    'operating_system':5,\n",
    "    'device_type':15200,\n",
    "    ##\n",
    "    'days_from_registration':8,\n",
    "    'event_day_of_week':8,\n",
    "}"
   ]
  },
  {
   "cell_type": "code",
   "execution_count": 8,
   "id": "bcc1b333",
   "metadata": {},
   "outputs": [],
   "source": [
    "emb_dim = 128\n",
    "dropout_rate = 0.1\n",
    "batch_size = 512"
   ]
  },
  {
   "cell_type": "code",
   "execution_count": null,
   "id": "61131c03",
   "metadata": {},
   "outputs": [],
   "source": [
    "fold_number = 4"
   ]
  },
  {
   "cell_type": "code",
   "execution_count": 7,
   "id": "10b5a064",
   "metadata": {},
   "outputs": [],
   "source": [
    "feature_attributes = [\n",
    "    a for a in profile_attributes+even_attributes\n",
    "    if a != profile_id_column and a!= label_column\n",
    "]"
   ]
  }
 ],
 "metadata": {
  "kernelspec": {
   "display_name": "Python 3 (ipykernel)",
   "language": "python",
   "name": "python3"
  },
  "language_info": {
   "codemirror_mode": {
    "name": "ipython",
    "version": 3
   },
   "file_extension": ".py",
   "mimetype": "text/x-python",
   "name": "python",
   "nbconvert_exporter": "python",
   "pygments_lexer": "ipython3",
   "version": "3.10.6"
  }
 },
 "nbformat": 4,
 "nbformat_minor": 5
}
