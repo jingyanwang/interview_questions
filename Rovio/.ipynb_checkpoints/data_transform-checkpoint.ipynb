{
 "cells": [
  {
   "cell_type": "code",
   "execution_count": 1,
   "id": "1498cc1e",
   "metadata": {},
   "outputs": [],
   "source": [
    "import numpy as np\n",
    "import os\n",
    "import re\n",
    "from os import listdir\n",
    "from os.path import isfile, join"
   ]
  },
  {
   "cell_type": "code",
   "execution_count": 2,
   "id": "a4d57d74",
   "metadata": {},
   "outputs": [],
   "source": [
    "from tensorflow.keras.utils import to_categorical\n",
    "from tensorflow.keras.utils import pad_sequences "
   ]
  },
  {
   "cell_type": "code",
   "execution_count": 3,
   "id": "08d978d8",
   "metadata": {},
   "outputs": [],
   "source": [
    "%run configuration.ipynb"
   ]
  },
  {
   "cell_type": "markdown",
   "id": "75b06591",
   "metadata": {},
   "source": [
    "# load the numpy files"
   ]
  },
  {
   "cell_type": "code",
   "execution_count": 4,
   "id": "c050fdd8",
   "metadata": {},
   "outputs": [],
   "source": [
    "npy_folder = 'C:\\\\data\\\\rovio\\\\npy_data'"
   ]
  },
  {
   "cell_type": "code",
   "execution_count": 5,
   "id": "faefeb5e",
   "metadata": {},
   "outputs": [],
   "source": [
    "npy_data = {}"
   ]
  },
  {
   "cell_type": "code",
   "execution_count": 6,
   "id": "a33142e4",
   "metadata": {},
   "outputs": [],
   "source": [
    "npy_files = [\n",
    "    os.path.join(npy_folder, f) \n",
    "    for f in os.listdir(npy_folder) \n",
    "    if os.path.isfile(os.path.join(npy_folder, f))]"
   ]
  },
  {
   "cell_type": "code",
   "execution_count": null,
   "id": "7f7c22b1",
   "metadata": {},
   "outputs": [
    {
     "name": "stdout",
     "output_type": "stream",
     "text": [
      "loading C:\\data\\rovio\\npy_data\\ads_clicks.npy\n",
      "loading C:\\data\\rovio\\npy_data\\ads_impressions.npy\n",
      "loading C:\\data\\rovio\\npy_data\\country_code.npy\n",
      "loading C:\\data\\rovio\\npy_data\\days_from_registration.npy\n",
      "loading C:\\data\\rovio\\npy_data\\device_type.npy\n",
      "loading C:\\data\\rovio\\npy_data\\event_day_of_week.npy\n",
      "loading C:\\data\\rovio\\npy_data\\label.npy\n",
      "loading C:\\data\\rovio\\npy_data\\money_spent.npy\n"
     ]
    }
   ],
   "source": [
    "for f in npy_files:\n",
    "    print(f'loading {f}')\n",
    "    c = f.split('\\\\')[-1].split('.')[0]    \n",
    "    x = np.load(f, allow_pickle=True)\n",
    "    npy_data[c] = x"
   ]
  },
  {
   "cell_type": "code",
   "execution_count": null,
   "id": "2bfedf59",
   "metadata": {},
   "outputs": [],
   "source": [
    "print(npy_data.keys())"
   ]
  },
  {
   "cell_type": "markdown",
   "id": "66f8aab9",
   "metadata": {},
   "source": [
    "## player ID"
   ]
  },
  {
   "cell_type": "code",
   "execution_count": null,
   "id": "20b4788e",
   "metadata": {},
   "outputs": [],
   "source": [
    "x_player_id = npy_data[profile_id_column]"
   ]
  },
  {
   "cell_type": "code",
   "execution_count": null,
   "id": "aafc0192",
   "metadata": {},
   "outputs": [],
   "source": [
    "x_player_id.shape"
   ]
  },
  {
   "cell_type": "markdown",
   "id": "6a35e804",
   "metadata": {},
   "source": [
    "## label"
   ]
  },
  {
   "cell_type": "code",
   "execution_count": null,
   "id": "c226d0ec",
   "metadata": {},
   "outputs": [],
   "source": [
    "npy_data[label_column] = to_categorical(npy_data[label_column])"
   ]
  },
  {
   "cell_type": "code",
   "execution_count": null,
   "id": "845b0e99",
   "metadata": {},
   "outputs": [],
   "source": [
    "y = npy_data[label_column] "
   ]
  },
  {
   "cell_type": "code",
   "execution_count": null,
   "id": "486e86e0",
   "metadata": {},
   "outputs": [],
   "source": [
    "y.shape"
   ]
  },
  {
   "cell_type": "markdown",
   "id": "e6a472ca",
   "metadata": {},
   "source": [
    "## padding sequence of events"
   ]
  },
  {
   "cell_type": "code",
   "execution_count": null,
   "id": "140f92b8",
   "metadata": {},
   "outputs": [],
   "source": [
    "for c in even_attributes:\n",
    "    print(f'padding {c}')\n",
    "    npy_data[c] = pad_sequences(\n",
    "        npy_data[c],\n",
    "        maxlen = event_seq_len_max,\n",
    "        padding = 'post')"
   ]
  },
  {
   "cell_type": "code",
   "execution_count": null,
   "id": "a36067ba",
   "metadata": {},
   "outputs": [],
   "source": [
    "for c in even_attributes:\n",
    "    print(f'shape of {c}: {npy_data[c].shape}')   "
   ]
  },
  {
   "cell_type": "markdown",
   "id": "d4943df6",
   "metadata": {},
   "source": [
    "## save transformed data"
   ]
  },
  {
   "cell_type": "code",
   "execution_count": null,
   "id": "808e424e",
   "metadata": {},
   "outputs": [],
   "source": [
    "for c in npy_data:\n",
    "    np.save(f'{npy_transformed_folder}\\\\{c}.npy', npy_data[c])"
   ]
  },
  {
   "cell_type": "markdown",
   "id": "2e9dd9f8",
   "metadata": {},
   "source": [
    "# end"
   ]
  }
 ],
 "metadata": {
  "kernelspec": {
   "display_name": "Python 3 (ipykernel)",
   "language": "python",
   "name": "python3"
  },
  "language_info": {
   "codemirror_mode": {
    "name": "ipython",
    "version": 3
   },
   "file_extension": ".py",
   "mimetype": "text/x-python",
   "name": "python",
   "nbconvert_exporter": "python",
   "pygments_lexer": "ipython3",
   "version": "3.10.6"
  }
 },
 "nbformat": 4,
 "nbformat_minor": 5
}
