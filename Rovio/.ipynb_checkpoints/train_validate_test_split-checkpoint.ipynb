{
 "cells": [
  {
   "cell_type": "code",
   "execution_count": 1,
   "id": "914ba221",
   "metadata": {},
   "outputs": [],
   "source": [
    "%run configuration.ipynb"
   ]
  },
  {
   "cell_type": "code",
   "execution_count": 2,
   "id": "31a33165",
   "metadata": {},
   "outputs": [],
   "source": [
    "from sklearn.model_selection import train_test_split\n",
    "from sklearn.model_selection import KFold\n",
    "import numpy as np"
   ]
  },
  {
   "cell_type": "code",
   "execution_count": 3,
   "id": "234d9a6c",
   "metadata": {},
   "outputs": [],
   "source": [
    "y = np.load(f'{npy_transformed_folder}\\\\{label_column}.npy', allow_pickle=True)"
   ]
  },
  {
   "cell_type": "code",
   "execution_count": 4,
   "id": "d0299fc2",
   "metadata": {},
   "outputs": [],
   "source": [
    "x_idx = range(y.shape[0])"
   ]
  },
  {
   "cell_type": "markdown",
   "id": "aea49b9d",
   "metadata": {},
   "source": [
    "# split the training and test"
   ]
  },
  {
   "cell_type": "code",
   "execution_count": 5,
   "id": "01aba938",
   "metadata": {},
   "outputs": [],
   "source": [
    "x_idx_train, x_idx_test = train_test_split(x_idx)"
   ]
  },
  {
   "cell_type": "code",
   "execution_count": 6,
   "id": "b133c4fc",
   "metadata": {},
   "outputs": [
    {
     "data": {
      "text/plain": [
       "4589513"
      ]
     },
     "execution_count": 6,
     "metadata": {},
     "output_type": "execute_result"
    }
   ],
   "source": [
    "len(x_idx_train)"
   ]
  },
  {
   "cell_type": "code",
   "execution_count": 7,
   "id": "4c52523c",
   "metadata": {},
   "outputs": [
    {
     "data": {
      "text/plain": [
       "1529838"
      ]
     },
     "execution_count": 7,
     "metadata": {},
     "output_type": "execute_result"
    }
   ],
   "source": [
    "len(x_idx_test)"
   ]
  },
  {
   "cell_type": "markdown",
   "id": "c4e525dc",
   "metadata": {},
   "source": [
    "# 3-fold split of the training"
   ]
  },
  {
   "cell_type": "code",
   "execution_count": 8,
   "id": "c695d1da",
   "metadata": {},
   "outputs": [],
   "source": [
    "kf = KFold(n_splits=fold_number)"
   ]
  },
  {
   "cell_type": "code",
   "execution_count": 9,
   "id": "cb19414b",
   "metadata": {},
   "outputs": [],
   "source": [
    "kf_idx = kf.split(x_idx_train)"
   ]
  },
  {
   "cell_type": "code",
   "execution_count": 10,
   "id": "68c7c3cb",
   "metadata": {},
   "outputs": [],
   "source": [
    "fold_train_vali = [{'train':t, 'validate':x} for t, x in kf_idx]"
   ]
  },
  {
   "cell_type": "code",
   "execution_count": 11,
   "id": "f4c3168b",
   "metadata": {},
   "outputs": [
    {
     "data": {
      "text/plain": [
       "array([1529838, 1529839, 1529840, ..., 4589510, 4589511, 4589512])"
      ]
     },
     "execution_count": 11,
     "metadata": {},
     "output_type": "execute_result"
    }
   ],
   "source": [
    "fold_train_vali[0]['train']"
   ]
  },
  {
   "cell_type": "markdown",
   "id": "e5d6e231",
   "metadata": {},
   "source": [
    "c = 'country_code'\n",
    "\n",
    "x = npy_data[c][fold_train_vali[0]['train']]\n",
    "\n",
    "print(x.shape)\n",
    "\n",
    "input_layer = layers.Input(shape = (1,))\n",
    "\n",
    "emb_layer = layers.Embedding(\n",
    "    input_dim = attribute_vacabulary_size[c],\n",
    "    output_dim = emb_dim,\n",
    "    )(input_layer)\n",
    "\n",
    "m = Model(\n",
    "    inputs = [input_layer,],\n",
    "    outputs = emb_layer\n",
    "    )\n",
    "\n",
    "y = m.predict([x])"
   ]
  },
  {
   "cell_type": "markdown",
   "id": "8bff7596",
   "metadata": {},
   "source": [
    "# end "
   ]
  }
 ],
 "metadata": {
  "kernelspec": {
   "display_name": "Python 3 (ipykernel)",
   "language": "python",
   "name": "python3"
  },
  "language_info": {
   "codemirror_mode": {
    "name": "ipython",
    "version": 3
   },
   "file_extension": ".py",
   "mimetype": "text/x-python",
   "name": "python",
   "nbconvert_exporter": "python",
   "pygments_lexer": "ipython3",
   "version": "3.10.6"
  }
 },
 "nbformat": 4,
 "nbformat_minor": 5
}
