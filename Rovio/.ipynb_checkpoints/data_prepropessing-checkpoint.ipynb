{
 "cells": [
  {
   "cell_type": "code",
   "execution_count": 2,
   "id": "62bb276c",
   "metadata": {},
   "outputs": [],
   "source": [
    "import os\n",
    "import numpy as np"
   ]
  },
  {
   "cell_type": "code",
   "execution_count": 3,
   "id": "a2ac276b",
   "metadata": {},
   "outputs": [],
   "source": [
    "import pyspark\n",
    "from pyspark import *\n",
    "from pyspark.sql import *\n",
    "from pyspark.sql.types import *\n",
    "from pyspark.sql.functions import *"
   ]
  },
  {
   "cell_type": "code",
   "execution_count": 14,
   "id": "4af89ec0",
   "metadata": {},
   "outputs": [],
   "source": [
    "%run configuration.ipynb"
   ]
  },
  {
   "cell_type": "markdown",
   "id": "1f5b48dd",
   "metadata": {},
   "source": [
    "## build the spark context"
   ]
  },
  {
   "cell_type": "code",
   "execution_count": 4,
   "id": "78be5ae9",
   "metadata": {},
   "outputs": [
    {
     "name": "stderr",
     "output_type": "stream",
     "text": [
      "22/09/12 05:34:55 WARN NativeCodeLoader: Unable to load native-hadoop library for your platform... using builtin-java classes where applicable\n",
      "Using Spark's default log4j profile: org/apache/spark/log4j-defaults.properties\n",
      "Setting default log level to \"WARN\".\n",
      "To adjust logging level use sc.setLogLevel(newLevel). For SparkR, use setLogLevel(newLevel).\n"
     ]
    }
   ],
   "source": [
    "sc = SparkContext(\"local\", \"churn\")\n",
    "sqlContext = SparkSession.builder.getOrCreate()"
   ]
  },
  {
   "cell_type": "code",
   "execution_count": 5,
   "id": "94752423",
   "metadata": {},
   "outputs": [],
   "source": [
    "sql = lambda sql_commend: sqlContext.sql(sql_commend).show()"
   ]
  },
  {
   "cell_type": "code",
   "execution_count": 6,
   "id": "488a170c",
   "metadata": {},
   "outputs": [],
   "source": [
    "sql_to_df = lambda sql_commend: sqlContext.sql(sql_commend)"
   ]
  },
  {
   "cell_type": "code",
   "execution_count": 6,
   "id": "9398687b",
   "metadata": {},
   "outputs": [
    {
     "data": {
      "text/html": [
       "\n",
       "            <div>\n",
       "                <p><b>SparkSession - in-memory</b></p>\n",
       "                \n",
       "        <div>\n",
       "            <p><b>SparkContext</b></p>\n",
       "\n",
       "            <p><a href=\"http://824a4c6c85ac:4040\">Spark UI</a></p>\n",
       "\n",
       "            <dl>\n",
       "              <dt>Version</dt>\n",
       "                <dd><code>v3.0.1</code></dd>\n",
       "              <dt>Master</dt>\n",
       "                <dd><code>local</code></dd>\n",
       "              <dt>AppName</dt>\n",
       "                <dd><code>churn</code></dd>\n",
       "            </dl>\n",
       "        </div>\n",
       "        \n",
       "            </div>\n",
       "        "
      ],
      "text/plain": [
       "<pyspark.sql.session.SparkSession at 0x7f2090429280>"
      ]
     },
     "execution_count": 6,
     "metadata": {},
     "output_type": "execute_result"
    }
   ],
   "source": [
    "sqlContext"
   ]
  },
  {
   "cell_type": "markdown",
   "id": "77ba5ab9",
   "metadata": {},
   "source": [
    "see the spark jobs at \n",
    "\n",
    "http://localhost:4040/jobs/"
   ]
  },
  {
   "cell_type": "markdown",
   "id": "bc3e558d",
   "metadata": {},
   "source": [
    "## load the data"
   ]
  },
  {
   "cell_type": "markdown",
   "id": "91588cbe",
   "metadata": {},
   "source": [
    "### profile\n",
    "\n",
    "The profiles dataset contains user profiles with following columns:\n",
    "\n",
    "player_id (integer) - unique identifier of the player\n",
    "\n",
    "registration_date (yyyy-MM-dd) - date when the player 1st played the game\n",
    "\n",
    "country code (integer) - country of the user\n",
    "\n",
    "operating system (integer) - operating system of the user\n",
    "\n",
    "device type (integer) - type of device used by the player"
   ]
  },
  {
   "cell_type": "code",
   "execution_count": 6,
   "id": "25d1eb38",
   "metadata": {},
   "outputs": [],
   "source": [
    "profile_schema = StructType([\n",
    "    StructField('player_id', IntegerType(), True),\n",
    "    StructField('registration_date', DateType(), True),\n",
    "    StructField('country_code', IntegerType(), True),\n",
    "    StructField('operating_system', IntegerType(), False),\n",
    "    StructField('device_type', IntegerType(), True),\n",
    "])"
   ]
  },
  {
   "cell_type": "code",
   "execution_count": 7,
   "id": "4a900c60",
   "metadata": {},
   "outputs": [],
   "source": [
    "profiles = sqlContext.read\\\n",
    "    .option(\"header\", False)\\\n",
    "    .schema(profile_schema)\\\n",
    "    .csv('data/profiles')"
   ]
  },
  {
   "cell_type": "code",
   "execution_count": 8,
   "id": "ff1481bc",
   "metadata": {},
   "outputs": [],
   "source": [
    "profiles.createOrReplaceTempView('profiles')"
   ]
  },
  {
   "cell_type": "code",
   "execution_count": 15,
   "id": "4e7ccae5",
   "metadata": {},
   "outputs": [
    {
     "name": "stdout",
     "output_type": "stream",
     "text": [
      "+---------+-----------------+------------+----------------+-----------+\n",
      "|player_id|registration_date|country_code|operating_system|device_type|\n",
      "+---------+-----------------+------------+----------------+-----------+\n",
      "|  1442781|       2017-09-02|           0|               0|       1583|\n",
      "|  6438953|       2017-10-18|           8|               0|       1230|\n",
      "|  2155741|       2017-09-03|          32|               0|       1826|\n",
      "+---------+-----------------+------------+----------------+-----------+\n",
      "\n"
     ]
    }
   ],
   "source": [
    "sql(u\"\"\"\n",
    "select * from profiles limit 3;\n",
    "\"\"\")"
   ]
  },
  {
   "cell_type": "markdown",
   "id": "eb1b82ae",
   "metadata": {},
   "source": [
    "## activity\n",
    "\n",
    "The activity contains the information on players' daily visits in the game. E.g. if player with ID 123 plays the game at least once on 2018-09-02 then there is a row with those values in the data set. Complete schema of activity dataset contains columns:\n",
    "\n",
    "event_date (yyyy-MM-dd)\n",
    "\n",
    "player_id (integer) - unique identifier of the player\n",
    "\n",
    "money_spent (float) - Total money spent during the day\n",
    "\n",
    "session_count (integer) - Number of game sessions for the day\n",
    "\n",
    "purchase_count (integer) - Number of purchases during the day\n",
    "\n",
    "time_spent_seconds (integer) - Total time spent playing during the day\n",
    "\n",
    "ads_impressions (integer) - Total number of seen ads during the day\n",
    "\n",
    "ads_clicks (integer) - Total number of clicked ads during the day"
   ]
  },
  {
   "cell_type": "code",
   "execution_count": 9,
   "id": "8cfc54d9",
   "metadata": {},
   "outputs": [],
   "source": [
    "activity_schema = StructType([\n",
    "    StructField('event_date', DateType(), True),\n",
    "    StructField('player_id', IntegerType(), True),\n",
    "    StructField('money_spent', FloatType(), True),\n",
    "    StructField('session_count', IntegerType(), True),\n",
    "    StructField('purchase_count', IntegerType(), False),\n",
    "    StructField('time_spent_seconds', IntegerType(), True),\n",
    "    StructField('ads_impressions', IntegerType(), True),\n",
    "    StructField('ads_clicks', IntegerType(), True),\n",
    "])"
   ]
  },
  {
   "cell_type": "code",
   "execution_count": 10,
   "id": "990c448a",
   "metadata": {},
   "outputs": [],
   "source": [
    "activity = sqlContext.read\\\n",
    "    .option(\"header\", False)\\\n",
    "    .schema(activity_schema)\\\n",
    "    .csv('data/activity')"
   ]
  },
  {
   "cell_type": "markdown",
   "id": "24845e2e",
   "metadata": {},
   "source": [
    "activity.write.mode('Overwrite').parquet('data/activity.parquet')\n",
    "activity = sqlContext.read.parquet('data/activity.parquet')"
   ]
  },
  {
   "cell_type": "code",
   "execution_count": 11,
   "id": "24995309",
   "metadata": {},
   "outputs": [],
   "source": [
    "activity.createOrReplaceTempView('activity')"
   ]
  },
  {
   "cell_type": "code",
   "execution_count": 50,
   "id": "8d01fdc7",
   "metadata": {},
   "outputs": [
    {
     "name": "stderr",
     "output_type": "stream",
     "text": [
      "[Stage 30:===========================================>              (3 + 1) / 4]\r"
     ]
    },
    {
     "name": "stdout",
     "output_type": "stream",
     "text": [
      "+----------+---------+-----------+-------------+--------------+------------------+---------------+----------+\n",
      "|event_date|player_id|money_spent|session_count|purchase_count|time_spent_seconds|ads_impressions|ads_clicks|\n",
      "+----------+---------+-----------+-------------+--------------+------------------+---------------+----------+\n",
      "|2017-11-01|  6928404|        0.0|            1|             0|               927|              2|         1|\n",
      "|2017-11-01|  4168636|        0.0|            1|             0|              2710|              0|         0|\n",
      "|2017-11-01|  3950188|        0.0|            1|             0|               786|              0|         0|\n",
      "+----------+---------+-----------+-------------+--------------+------------------+---------------+----------+\n",
      "\n"
     ]
    },
    {
     "name": "stderr",
     "output_type": "stream",
     "text": [
      "\r",
      "                                                                                \r"
     ]
    }
   ],
   "source": [
    "sql(u\"\"\"\n",
    "select * from activity\n",
    "order by event_date desc\n",
    "limit 3;\n",
    "\"\"\")"
   ]
  },
  {
   "cell_type": "markdown",
   "id": "45cd8edb",
   "metadata": {},
   "source": [
    "the last event date is from 2017. no worries about the current date is still less than 7 days from the registration"
   ]
  },
  {
   "cell_type": "markdown",
   "id": "2fad00fe",
   "metadata": {},
   "source": [
    "## calculate the label\n",
    "\n",
    "Implement a churn (3) prediction model, and report its accuracy using the metric you think is the most fitting one\t\n",
    "\n",
    "3. Predict which players are not seen after 7th day from the registration\n"
   ]
  },
  {
   "cell_type": "code",
   "execution_count": 17,
   "id": "dbc8f28f",
   "metadata": {},
   "outputs": [
    {
     "name": "stdout",
     "output_type": "stream",
     "text": [
      "+------------------+---------+-------+\n",
      "|          col_name|data_type|comment|\n",
      "+------------------+---------+-------+\n",
      "|        event_date|     date|   null|\n",
      "|         player_id|      int|   null|\n",
      "|       money_spent|    float|   null|\n",
      "|     session_count|      int|   null|\n",
      "|    purchase_count|      int|   null|\n",
      "|time_spent_seconds|      int|   null|\n",
      "|   ads_impressions|      int|   null|\n",
      "|        ads_clicks|      int|   null|\n",
      "+------------------+---------+-------+\n",
      "\n"
     ]
    }
   ],
   "source": [
    "sql(u\"\"\"\n",
    "desc activity\n",
    "\"\"\")"
   ]
  },
  {
   "cell_type": "markdown",
   "id": "b1b0e53b",
   "metadata": {},
   "source": [
    "### find the last activity date"
   ]
  },
  {
   "cell_type": "code",
   "execution_count": 39,
   "id": "be9d0f16",
   "metadata": {},
   "outputs": [
    {
     "name": "stderr",
     "output_type": "stream",
     "text": [
      "                                                                                \r"
     ]
    }
   ],
   "source": [
    "sql_to_df(u\"\"\"\n",
    "    select player_id, \n",
    "    max(event_date) as last_event_date,\n",
    "    min(event_date) as first_event_date\n",
    "    from activity\n",
    "    group by player_id\n",
    "    \"\"\").write.mode('Overwrite').parquet('/data/player_last_event_date.parquet')"
   ]
  },
  {
   "cell_type": "code",
   "execution_count": 40,
   "id": "0c0e72b2",
   "metadata": {},
   "outputs": [],
   "source": [
    "sqlContext.read.parquet('/data/player_last_event_date.parquet').createOrReplaceTempView('player_last_event_date')"
   ]
  },
  {
   "cell_type": "code",
   "execution_count": 43,
   "id": "588296c5",
   "metadata": {},
   "outputs": [
    {
     "name": "stdout",
     "output_type": "stream",
     "text": [
      "+---------+---------------+----------------+-----------------+\n",
      "|player_id|last_event_date|first_event_date|activity_duration|\n",
      "+---------+---------------+----------------+-----------------+\n",
      "|  1583070|     2017-09-24|      2017-09-02|               22|\n",
      "|  6253908|     2017-11-01|      2017-10-12|               20|\n",
      "|  2398918|     2017-10-08|      2017-09-04|               34|\n",
      "+---------+---------------+----------------+-----------------+\n",
      "\n"
     ]
    }
   ],
   "source": [
    "sql(u\"\"\"\n",
    "select *,\n",
    "datediff(last_event_date, first_event_date) activity_duration\n",
    "from player_last_event_date limit 3;\n",
    "\"\"\")"
   ]
  },
  {
   "cell_type": "markdown",
   "id": "0d3e1bfd",
   "metadata": {},
   "source": [
    "### check if the last event date is more than 7 days later than the registration date"
   ]
  },
  {
   "cell_type": "code",
   "execution_count": 44,
   "id": "93c7344b",
   "metadata": {},
   "outputs": [
    {
     "name": "stdout",
     "output_type": "stream",
     "text": [
      "+-----------------+---------+-------+\n",
      "|         col_name|data_type|comment|\n",
      "+-----------------+---------+-------+\n",
      "|        player_id|      int|   null|\n",
      "|registration_date|     date|   null|\n",
      "|     country_code|      int|   null|\n",
      "| operating_system|      int|   null|\n",
      "|      device_type|      int|   null|\n",
      "+-----------------+---------+-------+\n",
      "\n"
     ]
    }
   ],
   "source": [
    "sql(u\"\"\"\n",
    "desc profiles\n",
    "\"\"\")"
   ]
  },
  {
   "cell_type": "code",
   "execution_count": 73,
   "id": "984750f7",
   "metadata": {},
   "outputs": [
    {
     "name": "stderr",
     "output_type": "stream",
     "text": [
      "22/09/11 20:57:45 WARN CacheManager: Asked to cache already cached data.\n",
      "                                                                                \r"
     ]
    }
   ],
   "source": [
    "sql_to_df(u\"\"\"\n",
    "    select *, \n",
    "    case \n",
    "        when active_days <= 7 then 1\n",
    "        else 0\n",
    "    end as label\n",
    "    from (\n",
    "        select p.*, \n",
    "        l.last_event_date,\n",
    "        datediff(l.last_event_date, p.registration_date)+1 as active_days\n",
    "        from profiles as p\n",
    "        left join player_last_event_date as l\n",
    "        on l.player_id = p.player_id\n",
    "        )\n",
    "    \"\"\").write.mode('Overwrite').parquet('/data/player_label.parquet')"
   ]
  },
  {
   "cell_type": "code",
   "execution_count": 74,
   "id": "8f3561a9",
   "metadata": {},
   "outputs": [],
   "source": [
    "sqlContext.read.parquet('/data/player_label.parquet').createOrReplaceTempView('player_label')"
   ]
  },
  {
   "cell_type": "code",
   "execution_count": 79,
   "id": "549d9410",
   "metadata": {},
   "outputs": [
    {
     "name": "stdout",
     "output_type": "stream",
     "text": [
      "+---------+-----------------+---------------+-----------+-----+\n",
      "|player_id|registration_date|last_event_date|active_days|label|\n",
      "+---------+-----------------+---------------+-----------+-----+\n",
      "|   812220|       2017-09-01|     2017-09-02|          2|    1|\n",
      "|   812226|       2017-09-01|     2017-09-12|         12|    0|\n",
      "|   812504|       2017-09-01|     2017-09-01|          1|    1|\n",
      "|   812544|       2017-09-01|     2017-09-18|         18|    0|\n",
      "|   812734|       2017-09-01|     2017-09-22|         22|    0|\n",
      "+---------+-----------------+---------------+-----------+-----+\n",
      "\n"
     ]
    }
   ],
   "source": [
    "sql(u\"\"\"\n",
    "select player_id, \n",
    "registration_date,\n",
    "last_event_date,\n",
    "active_days,\n",
    "label\n",
    "from player_label\n",
    "limit 5\n",
    "\"\"\")"
   ]
  },
  {
   "cell_type": "code",
   "execution_count": 77,
   "id": "597a9a2d",
   "metadata": {},
   "outputs": [
    {
     "name": "stderr",
     "output_type": "stream",
     "text": [
      "                                                                                \r"
     ]
    },
    {
     "name": "stdout",
     "output_type": "stream",
     "text": [
      "+-----+--------+\n",
      "|label|count(1)|\n",
      "+-----+--------+\n",
      "|    1| 3667088|\n",
      "|    0| 2452263|\n",
      "+-----+--------+\n",
      "\n"
     ]
    }
   ],
   "source": [
    "sql(u\"\"\"\n",
    "select label, count(*)\n",
    "from player_label\n",
    "group by label\n",
    "\"\"\")"
   ]
  },
  {
   "cell_type": "markdown",
   "id": "56e12917",
   "metadata": {},
   "source": [
    "## feature generation"
   ]
  },
  {
   "cell_type": "markdown",
   "id": "da27c455",
   "metadata": {},
   "source": [
    "### filter the event date to limit them within 7 days from the registration"
   ]
  },
  {
   "cell_type": "code",
   "execution_count": 80,
   "id": "3eaf28dc",
   "metadata": {},
   "outputs": [
    {
     "name": "stderr",
     "output_type": "stream",
     "text": [
      "22/09/11 21:00:17 WARN CacheManager: Asked to cache already cached data.\n",
      "                                                                                \r"
     ]
    }
   ],
   "source": [
    "sql_to_df(u\"\"\"\n",
    "    select a.*, p.registration_date\n",
    "    from activity as a\n",
    "    join profiles as p\n",
    "    on p.player_id = a.player_id    \n",
    "    where datediff(\n",
    "        a.event_date,\n",
    "        p.registration_date\n",
    "        ) < 7\n",
    "    \"\"\").write.mode('Overwrite').parquet('/data/activity_within_7_days.parquet')"
   ]
  },
  {
   "cell_type": "code",
   "execution_count": 81,
   "id": "906da603",
   "metadata": {},
   "outputs": [],
   "source": [
    "sqlContext.read.parquet('/data/activity_within_7_days.parquet').createOrReplaceTempView('activity_within_7_days')"
   ]
  },
  {
   "cell_type": "markdown",
   "id": "8c49dd89",
   "metadata": {},
   "source": [
    "#### check the correctness"
   ]
  },
  {
   "cell_type": "code",
   "execution_count": 82,
   "id": "1c9c2038",
   "metadata": {},
   "outputs": [
    {
     "name": "stderr",
     "output_type": "stream",
     "text": [
      "[Stage 116:==========================================>              (6 + 1) / 8]\r"
     ]
    },
    {
     "name": "stdout",
     "output_type": "stream",
     "text": [
      "+----------+---------+-----------+-------------+--------------+------------------+---------------+----------+-----------------+\n",
      "|event_date|player_id|money_spent|session_count|purchase_count|time_spent_seconds|ads_impressions|ads_clicks|registration_date|\n",
      "+----------+---------+-----------+-------------+--------------+------------------+---------------+----------+-----------------+\n",
      "|2017-09-01|   812226|        0.0|            1|             0|                63|              0|         0|       2017-09-01|\n",
      "|2017-09-02|   812226|        0.0|            5|             0|               350|              0|         0|       2017-09-01|\n",
      "+----------+---------+-----------+-------------+--------------+------------------+---------------+----------+-----------------+\n",
      "\n"
     ]
    },
    {
     "name": "stderr",
     "output_type": "stream",
     "text": [
      "\r",
      "[Stage 116:=================================================>       (7 + 1) / 8]\r",
      "\r",
      "                                                                                \r"
     ]
    }
   ],
   "source": [
    "sql(u\"\"\"\n",
    "select *\n",
    "from activity_within_7_days\n",
    "where player_id = 812226\n",
    "order by event_date asc\n",
    "\"\"\")"
   ]
  },
  {
   "cell_type": "code",
   "execution_count": 83,
   "id": "8b80c0db",
   "metadata": {},
   "outputs": [
    {
     "name": "stderr",
     "output_type": "stream",
     "text": [
      "[Stage 117:==========================================>              (3 + 1) / 4]\r"
     ]
    },
    {
     "name": "stdout",
     "output_type": "stream",
     "text": [
      "+----------+---------+-----------+-------------+--------------+------------------+---------------+----------+\n",
      "|event_date|player_id|money_spent|session_count|purchase_count|time_spent_seconds|ads_impressions|ads_clicks|\n",
      "+----------+---------+-----------+-------------+--------------+------------------+---------------+----------+\n",
      "|2017-09-01|   812226|        0.0|            1|             0|                63|              0|         0|\n",
      "|2017-09-02|   812226|        0.0|            5|             0|               350|              0|         0|\n",
      "|2017-09-08|   812226|        0.0|            2|             0|               612|              0|         0|\n",
      "|2017-09-09|   812226|        0.0|            2|             0|              3095|              3|         0|\n",
      "|2017-09-10|   812226|        0.0|            1|             0|               960|              0|         0|\n",
      "|2017-09-12|   812226|        0.0|            1|             0|               351|              0|         0|\n",
      "+----------+---------+-----------+-------------+--------------+------------------+---------------+----------+\n",
      "\n"
     ]
    },
    {
     "name": "stderr",
     "output_type": "stream",
     "text": [
      "\r",
      "                                                                                \r"
     ]
    }
   ],
   "source": [
    "sql(u\"\"\"\n",
    "select *\n",
    "from activity\n",
    "where player_id = 812226\n",
    "order by event_date asc\n",
    "\"\"\")"
   ]
  },
  {
   "cell_type": "markdown",
   "id": "a5464e64",
   "metadata": {},
   "source": [
    "### generate the sequence of activities for players"
   ]
  },
  {
   "cell_type": "code",
   "execution_count": 104,
   "id": "2ec83ff8",
   "metadata": {},
   "outputs": [
    {
     "name": "stderr",
     "output_type": "stream",
     "text": [
      "                                                                                \r"
     ]
    }
   ],
   "source": [
    "sql_to_df(u\"\"\"\n",
    "select player_id,\n",
    "collect_list(\n",
    "    struct(\n",
    "        event_date,\n",
    "        money_spent,\n",
    "        session_count,\n",
    "        purchase_count,\n",
    "        time_spent_seconds,\n",
    "        ads_impressions,\n",
    "        ads_clicks,\n",
    "        datediff(event_date, registration_date) as days_from_registration,\n",
    "        dayofweek(event_date) as event_day_of_week\n",
    "    )\n",
    ") as event_sequence\n",
    "from activity_within_7_days\n",
    "group by player_id\n",
    "\"\"\").write.mode('Overwrite').parquet('/data/player_event_sequence.parquet')"
   ]
  },
  {
   "cell_type": "code",
   "execution_count": 105,
   "id": "8f66fab4",
   "metadata": {},
   "outputs": [],
   "source": [
    "sqlContext.read.parquet('/data/player_event_sequence.parquet').createOrReplaceTempView('player_event_sequence')"
   ]
  },
  {
   "cell_type": "code",
   "execution_count": 116,
   "id": "4b214275",
   "metadata": {},
   "outputs": [
    {
     "name": "stderr",
     "output_type": "stream",
     "text": [
      "[Stage 147:===================>                                     (1 + 1) / 3]\r"
     ]
    },
    {
     "name": "stdout",
     "output_type": "stream",
     "text": [
      "+----------+---------+-----------+-------------+--------------+------------------+---------------+----------+-----------------+\n",
      "|event_date|player_id|money_spent|session_count|purchase_count|time_spent_seconds|ads_impressions|ads_clicks|registration_date|\n",
      "+----------+---------+-----------+-------------+--------------+------------------+---------------+----------+-----------------+\n",
      "+----------+---------+-----------+-------------+--------------+------------------+---------------+----------+-----------------+\n",
      "\n"
     ]
    },
    {
     "name": "stderr",
     "output_type": "stream",
     "text": [
      "\r",
      "[Stage 147:======================================>                  (2 + 1) / 3]\r",
      "\r",
      "                                                                                \r"
     ]
    }
   ],
   "source": [
    "sql(u\"\"\"\n",
    "select *\n",
    "from activity_within_7_days\n",
    "where money_spent is null\n",
    "\"\"\")"
   ]
  },
  {
   "cell_type": "markdown",
   "id": "1037e7d5",
   "metadata": {},
   "source": [
    "### sort the sequence according to the event date"
   ]
  },
  {
   "cell_type": "code",
   "execution_count": 106,
   "id": "2f442d8e",
   "metadata": {},
   "outputs": [
    {
     "name": "stderr",
     "output_type": "stream",
     "text": [
      "                                                                                \r"
     ]
    }
   ],
   "source": [
    "sql_to_df(u\"\"\"\n",
    "select player_id, \n",
    "array_sort(event_sequence,  \n",
    "    (left, right) -> case when left.event_date < right.event_date then -1 else 1 end\n",
    ") as event_sequence\n",
    "from player_event_sequence\n",
    "\"\"\").write.mode('Overwrite').parquet('/data/player_event_sequence_sorted.parquet')"
   ]
  },
  {
   "cell_type": "code",
   "execution_count": 107,
   "id": "05631586",
   "metadata": {},
   "outputs": [],
   "source": [
    "sqlContext.read.parquet('/data/player_event_sequence_sorted.parquet').createOrReplaceTempView('player_event_sequence_sorted')"
   ]
  },
  {
   "cell_type": "code",
   "execution_count": 110,
   "id": "8ab6b9b8",
   "metadata": {},
   "outputs": [
    {
     "name": "stderr",
     "output_type": "stream",
     "text": [
      "[Stage 140:============================>                            (1 + 1) / 2]\r"
     ]
    },
    {
     "name": "stdout",
     "output_type": "stream",
     "text": [
      "+---------+----------------------------------------------------------------------------------------------------------------------------------------------------------------------------------------------------------------------+\n",
      "|player_id|event_sequence                                                                                                                                                                                                        |\n",
      "+---------+----------------------------------------------------------------------------------------------------------------------------------------------------------------------------------------------------------------------+\n",
      "|812293   |[[2017-09-01, 0.0, 1, 0, 137, 0, 0, 0, 6]]                                                                                                                                                                            |\n",
      "|812413   |[[2017-09-01, 0.0, 1, 0, 34, 0, 0, 0, 6], [2017-09-02, 0.0, 2, 0, 37, 3, 1, 1, 7]]                                                                                                                                    |\n",
      "|812839   |[[2017-09-01, 0.0, 2, 0, 685, 3, 0, 0, 6]]                                                                                                                                                                            |\n",
      "|813000   |[[2017-09-01, 0.0, 3, 0, 1817, 0, 0, 0, 6]]                                                                                                                                                                           |\n",
      "|813103   |[[2017-09-01, 0.0, 2, 0, 253, 0, 0, 0, 6]]                                                                                                                                                                            |\n",
      "|813988   |[[2017-09-01, 0.0, 1, 0, 2690, 2, 0, 0, 6]]                                                                                                                                                                           |\n",
      "|814500   |[[2017-09-01, 0.0, 5, 0, 12901, 0, 0, 0, 6]]                                                                                                                                                                          |\n",
      "|814513   |[[2017-09-01, 0.0, 3, 0, 998, 0, 0, 0, 6], [2017-09-02, 0.0, 4, 0, 4206, 0, 0, 1, 7], [2017-09-04, 0.0, 1, 0, 1120, 0, 0, 3, 2], [2017-09-06, 0.0, 2, 0, 3080, 0, 0, 5, 4], [2017-09-07, 0.0, 2, 0, 2238, 0, 0, 6, 5]]|\n",
      "|814854   |[[2017-09-01, 0.0, 5, 0, 1528, 0, 0, 0, 6], [2017-09-02, 0.0, 14, 0, 10852, 3, 0, 1, 7], [2017-09-03, 0.0, 8, 0, 4184, 0, 0, 2, 1], [2017-09-05, 0.0, 1, 0, 235, 0, 0, 4, 3], [2017-09-06, 0.0, 1, 0, 1, 0, 0, 5, 4]] |\n",
      "|815125   |[[2017-09-01, 0.0, 1, 0, 252, 0, 0, 0, 6]]                                                                                                                                                                            |\n",
      "+---------+----------------------------------------------------------------------------------------------------------------------------------------------------------------------------------------------------------------------+\n",
      "\n"
     ]
    },
    {
     "name": "stderr",
     "output_type": "stream",
     "text": [
      "\r",
      "                                                                                \r"
     ]
    }
   ],
   "source": [
    "sql_to_df(u\"\"\"\n",
    "select *\n",
    "from player_event_sequence_sorted\n",
    "limit 10;\n",
    "\"\"\").show(truncate = False)"
   ]
  },
  {
   "cell_type": "markdown",
   "id": "9a8061d4",
   "metadata": {},
   "source": [
    "## join the event features and label to the profile"
   ]
  },
  {
   "cell_type": "code",
   "execution_count": 131,
   "id": "f205e1d3",
   "metadata": {},
   "outputs": [
    {
     "name": "stderr",
     "output_type": "stream",
     "text": [
      "                                                                                \r"
     ]
    }
   ],
   "source": [
    "sql_to_df(u\"\"\"\n",
    "    select p.*,\n",
    "    s.event_sequence,\n",
    "    l.label\n",
    "    from profiles as p\n",
    "    left join player_event_sequence_sorted as s on s.player_id = p.player_id\n",
    "    left join player_label as l on l.player_id = p.player_id\n",
    "    \"\"\").write.mode('Overwrite').parquet('/data/profile_feature_label.parquet')"
   ]
  },
  {
   "cell_type": "code",
   "execution_count": 7,
   "id": "364a0798",
   "metadata": {},
   "outputs": [],
   "source": [
    "sqlContext.read.parquet('/data/profile_feature_label.parquet').createOrReplaceTempView('profile_feature_label')"
   ]
  },
  {
   "cell_type": "code",
   "execution_count": 13,
   "id": "84657e1e",
   "metadata": {},
   "outputs": [
    {
     "name": "stderr",
     "output_type": "stream",
     "text": [
      "[Stage 5:==============================================>        (170 + 1) / 200]\r"
     ]
    },
    {
     "name": "stdout",
     "output_type": "stream",
     "text": [
      "+--------+-------------------------+\n",
      "|count(1)|count(DISTINCT player_id)|\n",
      "+--------+-------------------------+\n",
      "| 6119351|                  6119351|\n",
      "+--------+-------------------------+\n",
      "\n"
     ]
    },
    {
     "name": "stderr",
     "output_type": "stream",
     "text": [
      "\r",
      "[Stage 5:======================================================>(199 + 1) / 200]\r",
      "\r",
      "                                                                                \r"
     ]
    }
   ],
   "source": [
    "sql(u\"\"\"\n",
    "select count(*), count(distinct player_id)\n",
    "from profile_feature_label\n",
    "\"\"\")"
   ]
  },
  {
   "cell_type": "markdown",
   "id": "5728bac2",
   "metadata": {},
   "source": [
    "### transform to arrays"
   ]
  },
  {
   "cell_type": "code",
   "execution_count": 11,
   "id": "40fe4e5d",
   "metadata": {},
   "outputs": [
    {
     "name": "stderr",
     "output_type": "stream",
     "text": [
      "22/09/11 21:43:53 WARN SimpleFunctionRegistry: The function dict_array_to_int_array replaced a previously registered function.\n"
     ]
    },
    {
     "data": {
      "text/plain": [
       "<function __main__.dict_array_to_int_array(input, key)>"
      ]
     },
     "execution_count": 11,
     "metadata": {},
     "output_type": "execute_result"
    }
   ],
   "source": [
    "def dict_array_to_float_array(\n",
    "    input,\n",
    "    key,\n",
    "    ):\n",
    "    output = []\n",
    "    return [a[key] for a in input]\n",
    "\n",
    "sqlContext.udf.register(\"dict_array_to_float_array\", dict_array_to_int_array, ArrayType(FloatType()))\n",
    "\n",
    "def dict_array_to_int_array(\n",
    "    input,\n",
    "    key,\n",
    "    ):\n",
    "    output = []\n",
    "    return [a[key] for a in input]\n",
    "\n",
    "sqlContext.udf.register(\"dict_array_to_int_array\", dict_array_to_int_array, ArrayType(IntegerType()))"
   ]
  },
  {
   "cell_type": "code",
   "execution_count": 9,
   "id": "88a3f3f5",
   "metadata": {},
   "outputs": [
    {
     "name": "stdout",
     "output_type": "stream",
     "text": [
      "root\n",
      " |-- player_id: integer (nullable = true)\n",
      " |-- registration_date: date (nullable = true)\n",
      " |-- country_code: integer (nullable = true)\n",
      " |-- operating_system: integer (nullable = true)\n",
      " |-- device_type: integer (nullable = true)\n",
      " |-- event_sequence: array (nullable = true)\n",
      " |    |-- element: struct (containsNull = true)\n",
      " |    |    |-- event_date: date (nullable = true)\n",
      " |    |    |-- money_spent: float (nullable = true)\n",
      " |    |    |-- session_count: integer (nullable = true)\n",
      " |    |    |-- purchase_count: integer (nullable = true)\n",
      " |    |    |-- time_spent_seconds: integer (nullable = true)\n",
      " |    |    |-- ads_impressions: integer (nullable = true)\n",
      " |    |    |-- ads_clicks: integer (nullable = true)\n",
      " |    |    |-- days_from_registration: integer (nullable = true)\n",
      " |    |    |-- event_day_of_week: integer (nullable = true)\n",
      " |-- label: integer (nullable = true)\n",
      "\n"
     ]
    }
   ],
   "source": [
    "sql_to_df(u\"\"\"\n",
    "select * from profile_feature_label\n",
    "\"\"\").printSchema()"
   ]
  },
  {
   "cell_type": "code",
   "execution_count": 22,
   "id": "cf808b5c",
   "metadata": {},
   "outputs": [
    {
     "name": "stderr",
     "output_type": "stream",
     "text": [
      "                                                                                \r"
     ]
    }
   ],
   "source": [
    "sql_to_df(u\"\"\"\n",
    "select \n",
    "player_id,\n",
    "label,\n",
    "dayofweek(registration_date) as registration_date_day_of_week,\n",
    "country_code,\n",
    "operating_system,\n",
    "device_type,\n",
    "dict_array_to_int_array(event_sequence, 'days_from_registration') as days_from_registration,\n",
    "dict_array_to_int_array(event_sequence, 'event_day_of_week') as event_day_of_week,\n",
    "dict_array_to_float_array(event_sequence, 'money_spent') as money_spent,\n",
    "dict_array_to_int_array(event_sequence, 'session_count') as session_count,\n",
    "dict_array_to_int_array(event_sequence, 'time_spent_seconds') as time_spent_seconds,\n",
    "dict_array_to_int_array(event_sequence, 'ads_impressions') as ads_impressions,\n",
    "dict_array_to_int_array(event_sequence, 'ads_clicks') as ads_clicks\n",
    "from profile_feature_label\n",
    "\"\"\").write.mode('Overwrite').parquet('/data/profile_data_array.parquet')"
   ]
  },
  {
   "cell_type": "code",
   "execution_count": 7,
   "id": "84ded5b7",
   "metadata": {},
   "outputs": [],
   "source": [
    "profile_data_array = sqlContext.read.parquet('/data/profile_data_array.parquet')"
   ]
  },
  {
   "cell_type": "markdown",
   "id": "dd7f60b9",
   "metadata": {},
   "source": [
    "### save to npy arrays"
   ]
  },
  {
   "cell_type": "markdown",
   "id": "107dc071",
   "metadata": {},
   "source": [
    "for c in profile_data_array.columns:\n",
    "    print(f'\\'{c}\\',')"
   ]
  },
  {
   "cell_type": "code",
   "execution_count": 9,
   "id": "a36aaadd",
   "metadata": {},
   "outputs": [],
   "source": [
    "npy_directory = '/data/npy_data'"
   ]
  },
  {
   "cell_type": "code",
   "execution_count": 11,
   "id": "10548a3f",
   "metadata": {},
   "outputs": [
    {
     "name": "stdout",
     "output_type": "stream",
     "text": [
      "saving player_id\n"
     ]
    },
    {
     "name": "stderr",
     "output_type": "stream",
     "text": [
      "                                                                                \r"
     ]
    },
    {
     "name": "stdout",
     "output_type": "stream",
     "text": [
      "saving label\n"
     ]
    },
    {
     "name": "stderr",
     "output_type": "stream",
     "text": [
      "                                                                                \r"
     ]
    },
    {
     "name": "stdout",
     "output_type": "stream",
     "text": [
      "saving registration_date_day_of_week\n"
     ]
    },
    {
     "name": "stderr",
     "output_type": "stream",
     "text": [
      "\r",
      "[Stage 7:=============================>                             (1 + 1) / 2]\r",
      "\r",
      "                                                                                \r"
     ]
    },
    {
     "name": "stdout",
     "output_type": "stream",
     "text": [
      "saving country_code\n"
     ]
    },
    {
     "name": "stderr",
     "output_type": "stream",
     "text": [
      "                                                                                \r"
     ]
    },
    {
     "name": "stdout",
     "output_type": "stream",
     "text": [
      "saving operating_system\n"
     ]
    },
    {
     "name": "stderr",
     "output_type": "stream",
     "text": [
      "                                                                                \r"
     ]
    },
    {
     "name": "stdout",
     "output_type": "stream",
     "text": [
      "saving device_type\n"
     ]
    },
    {
     "name": "stderr",
     "output_type": "stream",
     "text": [
      "                                                                                \r"
     ]
    }
   ],
   "source": [
    "for c in profile_attributes:\n",
    "    print(f'saving {c}')\n",
    "    x = profile_data_array.select(c).collect()\n",
    "    x = [l[0] for l in x]\n",
    "    x = np.array(x)\n",
    "    np.save(f'{npy_directory}/{c}.npy', x)"
   ]
  },
  {
   "cell_type": "code",
   "execution_count": 13,
   "id": "d128c3ed",
   "metadata": {},
   "outputs": [
    {
     "name": "stdout",
     "output_type": "stream",
     "text": [
      "saving days_from_registration\n"
     ]
    },
    {
     "name": "stderr",
     "output_type": "stream",
     "text": [
      "/tmp/ipykernel_899/3327281239.py:5: VisibleDeprecationWarning: Creating an ndarray from ragged nested sequences (which is a list-or-tuple of lists-or-tuples-or ndarrays with different lengths or shapes) is deprecated. If you meant to do this, you must specify 'dtype=object' when creating the ndarray.\n",
      "  x = np.array(x)\n"
     ]
    },
    {
     "name": "stdout",
     "output_type": "stream",
     "text": [
      "saving event_day_of_week\n"
     ]
    },
    {
     "name": "stderr",
     "output_type": "stream",
     "text": [
      "                                                                                \r"
     ]
    },
    {
     "name": "stdout",
     "output_type": "stream",
     "text": [
      "saving money_spent\n"
     ]
    },
    {
     "name": "stderr",
     "output_type": "stream",
     "text": [
      "                                                                                \r"
     ]
    },
    {
     "name": "stdout",
     "output_type": "stream",
     "text": [
      "saving session_count\n"
     ]
    },
    {
     "name": "stderr",
     "output_type": "stream",
     "text": [
      "                                                                                \r"
     ]
    },
    {
     "name": "stdout",
     "output_type": "stream",
     "text": [
      "saving time_spent_seconds\n"
     ]
    },
    {
     "name": "stderr",
     "output_type": "stream",
     "text": [
      "                                                                                \r"
     ]
    },
    {
     "name": "stdout",
     "output_type": "stream",
     "text": [
      "saving ads_impressions\n"
     ]
    },
    {
     "name": "stderr",
     "output_type": "stream",
     "text": [
      "                                                                                \r"
     ]
    },
    {
     "name": "stdout",
     "output_type": "stream",
     "text": [
      "saving ads_clicks\n"
     ]
    },
    {
     "name": "stderr",
     "output_type": "stream",
     "text": [
      "                                                                                \r"
     ]
    }
   ],
   "source": [
    "for c in even_attributes:\n",
    "    print(f'saving {c}')\n",
    "    x = profile_data_array.select(c).collect()\n",
    "    x = [np.asarray(l[0]) for l in x]\n",
    "    x = np.array(x)\n",
    "    np.save(f'{npy_directory}/{c}.npy', x)"
   ]
  },
  {
   "cell_type": "markdown",
   "id": "69276c5f",
   "metadata": {},
   "source": [
    "## end"
   ]
  }
 ],
 "metadata": {
  "kernelspec": {
   "display_name": "Python 3 (ipykernel)",
   "language": "python",
   "name": "python3"
  },
  "language_info": {
   "codemirror_mode": {
    "name": "ipython",
    "version": 3
   },
   "file_extension": ".py",
   "mimetype": "text/x-python",
   "name": "python",
   "nbconvert_exporter": "python",
   "pygments_lexer": "ipython3",
   "version": "3.10.6"
  }
 },
 "nbformat": 4,
 "nbformat_minor": 5
}
