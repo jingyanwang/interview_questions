{
 "cells": [
  {
   "cell_type": "markdown",
   "id": "8eff32b2",
   "metadata": {},
   "source": [
    "# churn prediction model"
   ]
  },
  {
   "cell_type": "markdown",
   "id": "20655659",
   "metadata": {},
   "source": [
    "## developer: Jingyan Wang"
   ]
  },
  {
   "cell_type": "markdown",
   "id": "6dbb51f6",
   "metadata": {},
   "source": [
    "# preprocessing of the data\n",
    "\n",
    "process the data to calculat the label and features"
   ]
  },
  {
   "cell_type": "code",
   "execution_count": null,
   "id": "d04d9717",
   "metadata": {},
   "outputs": [],
   "source": [
    "%run data_prepropessing.ipynb"
   ]
  },
  {
   "cell_type": "markdown",
   "id": "b28f22d5",
   "metadata": {},
   "source": [
    "# feature transform\n",
    "\n",
    "convert the features and labels to numpy arrays"
   ]
  },
  {
   "cell_type": "code",
   "execution_count": null,
   "id": "2bc5325f",
   "metadata": {},
   "outputs": [],
   "source": [
    "%run data_transform.ipynb"
   ]
  },
  {
   "cell_type": "markdown",
   "id": "e396a99b",
   "metadata": {},
   "source": [
    "# split training and test set "
   ]
  },
  {
   "cell_type": "code",
   "execution_count": null,
   "id": "5028d4e3",
   "metadata": {},
   "outputs": [],
   "source": [
    "%run train_validate_test_split.ipynb"
   ]
  },
  {
   "cell_type": "markdown",
   "id": "429f78e8",
   "metadata": {},
   "source": [
    "# parameter tuning over the training set with 4-fold cross validation"
   ]
  },
  {
   "cell_type": "code",
   "execution_count": null,
   "id": "3666ff43",
   "metadata": {},
   "outputs": [],
   "source": [
    "%run cross_validation_parameter_tunning.ipynb"
   ]
  },
  {
   "cell_type": "markdown",
   "id": "021a7a77",
   "metadata": {},
   "source": [
    "# train the model with the optimal parameters and evalute over the test set"
   ]
  },
  {
   "cell_type": "code",
   "execution_count": 1,
   "id": "b88e54b9",
   "metadata": {},
   "outputs": [
    {
     "name": "stdout",
     "output_type": "stream",
     "text": [
      "{'units': 128, 'epochs': 3, 'emb_dim': 128, 'dropout_rate': 0.3}\n",
      "training the model over the trainig set with parameters {'units': 128, 'epochs': 3, 'emb_dim': 128, 'dropout_rate': 0.3}\n",
      "Epoch 1/3\n",
      "8964/8964 [==============================] - 72s 7ms/step - loss: 0.5117 - auc: 0.8306 - acc: 0.7591\n",
      "Epoch 2/3\n",
      "8964/8964 [==============================] - 68s 8ms/step - loss: 0.4751 - auc: 0.8542 - acc: 0.7893\n",
      "Epoch 3/3\n",
      "8964/8964 [==============================] - 71s 8ms/step - loss: 0.4700 - auc: 0.8574 - acc: 0.7929\n",
      "evaluating the model over the test set\n",
      "2988/2988 [==============================] - 11s 4ms/step - loss: 0.4547 - auc: 0.8678 - acc: 0.7969\n",
      "evaluatoin result: auc: 0.8678, acc: 0.7969\n"
     ]
    }
   ],
   "source": [
    "%run model_training_and_evaluation.ipynb"
   ]
  },
  {
   "cell_type": "markdown",
   "id": "b116c2c1",
   "metadata": {},
   "source": [
    "# end"
   ]
  }
 ],
 "metadata": {
  "kernelspec": {
   "display_name": "Python 3 (ipykernel)",
   "language": "python",
   "name": "python3"
  },
  "language_info": {
   "codemirror_mode": {
    "name": "ipython",
    "version": 3
   },
   "file_extension": ".py",
   "mimetype": "text/x-python",
   "name": "python",
   "nbconvert_exporter": "python",
   "pygments_lexer": "ipython3",
   "version": "3.10.6"
  }
 },
 "nbformat": 4,
 "nbformat_minor": 5
}
