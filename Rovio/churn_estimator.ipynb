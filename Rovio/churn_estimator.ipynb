{
 "cells": [
  {
   "cell_type": "code",
   "execution_count": 1,
   "id": "b517a5c7",
   "metadata": {},
   "outputs": [],
   "source": [
    "%run churn_model.ipynb"
   ]
  },
  {
   "cell_type": "code",
   "execution_count": 2,
   "id": "149305df",
   "metadata": {},
   "outputs": [],
   "source": [
    "%run configuration.ipynb"
   ]
  },
  {
   "cell_type": "code",
   "execution_count": 3,
   "id": "d25d4ba4",
   "metadata": {},
   "outputs": [],
   "source": [
    "import sklearn\n",
    "import numpy as np\n",
    "from sklearn.metrics import roc_auc_score\n",
    "from sklearn.model_selection import train_test_split\n",
    "from sklearn.model_selection import GridSearchCV, RandomizedSearchCV"
   ]
  },
  {
   "cell_type": "code",
   "execution_count": 4,
   "id": "a7068258",
   "metadata": {},
   "outputs": [],
   "source": [
    "npy_data = {}\n",
    "\n",
    "for c in profile_attributes+even_attributes:\n",
    "    npy_data[c] = np.load(f'{npy_transformed_folder}\\\\{c}.npy', allow_pickle=True)\n",
    "\n",
    "X = []\n",
    "for c in feature_attributes:\n",
    "    x = npy_data[c]\n",
    "    X.append(x)\n",
    "\n",
    "y = npy_data[label_column]"
   ]
  },
  {
   "cell_type": "code",
   "execution_count": 5,
   "id": "21d1606b",
   "metadata": {},
   "outputs": [],
   "source": [
    "class churn_estimator:\n",
    "    def __init__(\n",
    "        self,\n",
    "        emb_dim = 128,\n",
    "        dropout_rate = 0.1,\n",
    "        units = 256,\n",
    "        epochs = 1,\n",
    "    ):\n",
    "        self.emb_dim = emb_dim\n",
    "        self.dropout_rate = dropout_rate\n",
    "        self.units = units\n",
    "        self.epochs = epochs\n",
    "        self.churn = churn_model(\n",
    "            emb_dim = self.emb_dim,\n",
    "            dropout_rate = self.dropout_rate,\n",
    "            units = self.units,\n",
    "        )\n",
    "        self.churn.build_model()        \n",
    "\n",
    "    def get_params(\n",
    "        self,\n",
    "        deep = False,\n",
    "        ):\n",
    "        return {\n",
    "                \"emb_dim\": self.emb_dim,\n",
    "                \"dropout_rate\": self.dropout_rate,\n",
    "                \"units\": self.units,\n",
    "               }\n",
    "    \n",
    "    def set_params(\n",
    "        self, \n",
    "        **parameters,\n",
    "        ):\n",
    "        for parameter, value in parameters.items():\n",
    "            setattr(self, parameter, value)\n",
    "        return self\n",
    "\n",
    "    def fit(\n",
    "        self,\n",
    "        training_dx\n",
    "        ):\n",
    "        X_training = [x[training_dx] for x in X]\n",
    "        y_training = y[training_dx]\n",
    "        self.churn.model.fit(\n",
    "            x=X_training,\n",
    "            y=y_training,\n",
    "            batch_size=batch_size,\n",
    "            epochs=self.epochs,\n",
    "            verbose=\"auto\",\n",
    "            )\n",
    "    \n",
    "    def score(\n",
    "        self,\n",
    "        test_idx\n",
    "        ):\n",
    "        X_test = [x[test_idx] for x in X]\n",
    "        y_test = y[test_idx]\n",
    "        loss = churn.model.evaluate(\n",
    "            x=X_test,\n",
    "            y=y_test,\n",
    "            batch_size=batch_size,\n",
    "            )\n",
    "        return loss[1]"
   ]
  }
 ],
 "metadata": {
  "kernelspec": {
   "display_name": "Python 3 (ipykernel)",
   "language": "python",
   "name": "python3"
  },
  "language_info": {
   "codemirror_mode": {
    "name": "ipython",
    "version": 3
   },
   "file_extension": ".py",
   "mimetype": "text/x-python",
   "name": "python",
   "nbconvert_exporter": "python",
   "pygments_lexer": "ipython3",
   "version": "3.10.6"
  }
 },
 "nbformat": 4,
 "nbformat_minor": 5
}
